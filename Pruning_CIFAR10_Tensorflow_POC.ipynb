{
  "nbformat": 4,
  "nbformat_minor": 0,
  "metadata": {
    "colab": {
      "name": "Pruning_CIFAR10_Tensorflow_POC.ipynb",
      "provenance": [],
      "collapsed_sections": []
    },
    "kernelspec": {
      "name": "python3",
      "display_name": "Python 3"
    },
    "language_info": {
      "name": "python"
    },
    "widgets": {
      "application/vnd.jupyter.widget-state+json": {
        "c395bbd07f8c4a8f98152f3d4372bd75": {
          "model_module": "@jupyter-widgets/controls",
          "model_name": "HBoxModel",
          "model_module_version": "1.5.0",
          "state": {
            "_view_name": "HBoxView",
            "_dom_classes": [],
            "_model_name": "HBoxModel",
            "_view_module": "@jupyter-widgets/controls",
            "_model_module_version": "1.5.0",
            "_view_count": null,
            "_view_module_version": "1.5.0",
            "box_style": "",
            "layout": "IPY_MODEL_571effe5e7f144989755be54fd1c3b04",
            "_model_module": "@jupyter-widgets/controls",
            "children": [
              "IPY_MODEL_9fe7f55a36f5462a98371acd1669be1b",
              "IPY_MODEL_447f000d7273442db807ea900a6f91bd",
              "IPY_MODEL_a7714b91e0a4424db02b9773d4c1c4ad"
            ]
          }
        },
        "571effe5e7f144989755be54fd1c3b04": {
          "model_module": "@jupyter-widgets/base",
          "model_name": "LayoutModel",
          "model_module_version": "1.2.0",
          "state": {
            "_view_name": "LayoutView",
            "grid_template_rows": null,
            "right": null,
            "justify_content": null,
            "_view_module": "@jupyter-widgets/base",
            "overflow": null,
            "_model_module_version": "1.2.0",
            "_view_count": null,
            "flex_flow": null,
            "width": null,
            "min_width": null,
            "border": null,
            "align_items": null,
            "bottom": null,
            "_model_module": "@jupyter-widgets/base",
            "top": null,
            "grid_column": null,
            "overflow_y": null,
            "overflow_x": null,
            "grid_auto_flow": null,
            "grid_area": null,
            "grid_template_columns": null,
            "flex": null,
            "_model_name": "LayoutModel",
            "justify_items": null,
            "grid_row": null,
            "max_height": null,
            "align_content": null,
            "visibility": null,
            "align_self": null,
            "height": null,
            "min_height": null,
            "padding": null,
            "grid_auto_rows": null,
            "grid_gap": null,
            "max_width": null,
            "order": null,
            "_view_module_version": "1.2.0",
            "grid_template_areas": null,
            "object_position": null,
            "object_fit": null,
            "grid_auto_columns": null,
            "margin": null,
            "display": null,
            "left": null
          }
        },
        "9fe7f55a36f5462a98371acd1669be1b": {
          "model_module": "@jupyter-widgets/controls",
          "model_name": "HTMLModel",
          "model_module_version": "1.5.0",
          "state": {
            "_view_name": "HTMLView",
            "style": "IPY_MODEL_689fa1c2ada74852b058126351533990",
            "_dom_classes": [],
            "description": "",
            "_model_name": "HTMLModel",
            "placeholder": "​",
            "_view_module": "@jupyter-widgets/controls",
            "_model_module_version": "1.5.0",
            "value": "Dl Completed...: 100%",
            "_view_count": null,
            "_view_module_version": "1.5.0",
            "description_tooltip": null,
            "_model_module": "@jupyter-widgets/controls",
            "layout": "IPY_MODEL_48354dc1a7c84d8c91e4688d640b0a5b"
          }
        },
        "447f000d7273442db807ea900a6f91bd": {
          "model_module": "@jupyter-widgets/controls",
          "model_name": "FloatProgressModel",
          "model_module_version": "1.5.0",
          "state": {
            "_view_name": "ProgressView",
            "style": "IPY_MODEL_4f30559473fa459da7021dd23387ca3f",
            "_dom_classes": [],
            "description": "",
            "_model_name": "FloatProgressModel",
            "bar_style": "success",
            "max": 1,
            "_view_module": "@jupyter-widgets/controls",
            "_model_module_version": "1.5.0",
            "value": 1,
            "_view_count": null,
            "_view_module_version": "1.5.0",
            "orientation": "horizontal",
            "min": 0,
            "description_tooltip": null,
            "_model_module": "@jupyter-widgets/controls",
            "layout": "IPY_MODEL_1a14fad36ed64ac1917a31d4bffd5ee2"
          }
        },
        "a7714b91e0a4424db02b9773d4c1c4ad": {
          "model_module": "@jupyter-widgets/controls",
          "model_name": "HTMLModel",
          "model_module_version": "1.5.0",
          "state": {
            "_view_name": "HTMLView",
            "style": "IPY_MODEL_dcbac4891f4b484f83d2f8665af17f0b",
            "_dom_classes": [],
            "description": "",
            "_model_name": "HTMLModel",
            "placeholder": "​",
            "_view_module": "@jupyter-widgets/controls",
            "_model_module_version": "1.5.0",
            "value": " 1/1 [00:13&lt;00:00,  7.23s/ url]",
            "_view_count": null,
            "_view_module_version": "1.5.0",
            "description_tooltip": null,
            "_model_module": "@jupyter-widgets/controls",
            "layout": "IPY_MODEL_6218b9c652e348e2987a1436ea155091"
          }
        },
        "689fa1c2ada74852b058126351533990": {
          "model_module": "@jupyter-widgets/controls",
          "model_name": "DescriptionStyleModel",
          "model_module_version": "1.5.0",
          "state": {
            "_view_name": "StyleView",
            "_model_name": "DescriptionStyleModel",
            "description_width": "",
            "_view_module": "@jupyter-widgets/base",
            "_model_module_version": "1.5.0",
            "_view_count": null,
            "_view_module_version": "1.2.0",
            "_model_module": "@jupyter-widgets/controls"
          }
        },
        "48354dc1a7c84d8c91e4688d640b0a5b": {
          "model_module": "@jupyter-widgets/base",
          "model_name": "LayoutModel",
          "model_module_version": "1.2.0",
          "state": {
            "_view_name": "LayoutView",
            "grid_template_rows": null,
            "right": null,
            "justify_content": null,
            "_view_module": "@jupyter-widgets/base",
            "overflow": null,
            "_model_module_version": "1.2.0",
            "_view_count": null,
            "flex_flow": null,
            "width": null,
            "min_width": null,
            "border": null,
            "align_items": null,
            "bottom": null,
            "_model_module": "@jupyter-widgets/base",
            "top": null,
            "grid_column": null,
            "overflow_y": null,
            "overflow_x": null,
            "grid_auto_flow": null,
            "grid_area": null,
            "grid_template_columns": null,
            "flex": null,
            "_model_name": "LayoutModel",
            "justify_items": null,
            "grid_row": null,
            "max_height": null,
            "align_content": null,
            "visibility": null,
            "align_self": null,
            "height": null,
            "min_height": null,
            "padding": null,
            "grid_auto_rows": null,
            "grid_gap": null,
            "max_width": null,
            "order": null,
            "_view_module_version": "1.2.0",
            "grid_template_areas": null,
            "object_position": null,
            "object_fit": null,
            "grid_auto_columns": null,
            "margin": null,
            "display": null,
            "left": null
          }
        },
        "4f30559473fa459da7021dd23387ca3f": {
          "model_module": "@jupyter-widgets/controls",
          "model_name": "ProgressStyleModel",
          "model_module_version": "1.5.0",
          "state": {
            "_view_name": "StyleView",
            "_model_name": "ProgressStyleModel",
            "description_width": "",
            "_view_module": "@jupyter-widgets/base",
            "_model_module_version": "1.5.0",
            "_view_count": null,
            "_view_module_version": "1.2.0",
            "bar_color": null,
            "_model_module": "@jupyter-widgets/controls"
          }
        },
        "1a14fad36ed64ac1917a31d4bffd5ee2": {
          "model_module": "@jupyter-widgets/base",
          "model_name": "LayoutModel",
          "model_module_version": "1.2.0",
          "state": {
            "_view_name": "LayoutView",
            "grid_template_rows": null,
            "right": null,
            "justify_content": null,
            "_view_module": "@jupyter-widgets/base",
            "overflow": null,
            "_model_module_version": "1.2.0",
            "_view_count": null,
            "flex_flow": null,
            "width": "20px",
            "min_width": null,
            "border": null,
            "align_items": null,
            "bottom": null,
            "_model_module": "@jupyter-widgets/base",
            "top": null,
            "grid_column": null,
            "overflow_y": null,
            "overflow_x": null,
            "grid_auto_flow": null,
            "grid_area": null,
            "grid_template_columns": null,
            "flex": null,
            "_model_name": "LayoutModel",
            "justify_items": null,
            "grid_row": null,
            "max_height": null,
            "align_content": null,
            "visibility": null,
            "align_self": null,
            "height": null,
            "min_height": null,
            "padding": null,
            "grid_auto_rows": null,
            "grid_gap": null,
            "max_width": null,
            "order": null,
            "_view_module_version": "1.2.0",
            "grid_template_areas": null,
            "object_position": null,
            "object_fit": null,
            "grid_auto_columns": null,
            "margin": null,
            "display": null,
            "left": null
          }
        },
        "dcbac4891f4b484f83d2f8665af17f0b": {
          "model_module": "@jupyter-widgets/controls",
          "model_name": "DescriptionStyleModel",
          "model_module_version": "1.5.0",
          "state": {
            "_view_name": "StyleView",
            "_model_name": "DescriptionStyleModel",
            "description_width": "",
            "_view_module": "@jupyter-widgets/base",
            "_model_module_version": "1.5.0",
            "_view_count": null,
            "_view_module_version": "1.2.0",
            "_model_module": "@jupyter-widgets/controls"
          }
        },
        "6218b9c652e348e2987a1436ea155091": {
          "model_module": "@jupyter-widgets/base",
          "model_name": "LayoutModel",
          "model_module_version": "1.2.0",
          "state": {
            "_view_name": "LayoutView",
            "grid_template_rows": null,
            "right": null,
            "justify_content": null,
            "_view_module": "@jupyter-widgets/base",
            "overflow": null,
            "_model_module_version": "1.2.0",
            "_view_count": null,
            "flex_flow": null,
            "width": null,
            "min_width": null,
            "border": null,
            "align_items": null,
            "bottom": null,
            "_model_module": "@jupyter-widgets/base",
            "top": null,
            "grid_column": null,
            "overflow_y": null,
            "overflow_x": null,
            "grid_auto_flow": null,
            "grid_area": null,
            "grid_template_columns": null,
            "flex": null,
            "_model_name": "LayoutModel",
            "justify_items": null,
            "grid_row": null,
            "max_height": null,
            "align_content": null,
            "visibility": null,
            "align_self": null,
            "height": null,
            "min_height": null,
            "padding": null,
            "grid_auto_rows": null,
            "grid_gap": null,
            "max_width": null,
            "order": null,
            "_view_module_version": "1.2.0",
            "grid_template_areas": null,
            "object_position": null,
            "object_fit": null,
            "grid_auto_columns": null,
            "margin": null,
            "display": null,
            "left": null
          }
        },
        "3bf42e88e6f043d0959cd2b96634cf72": {
          "model_module": "@jupyter-widgets/controls",
          "model_name": "HBoxModel",
          "model_module_version": "1.5.0",
          "state": {
            "_view_name": "HBoxView",
            "_dom_classes": [],
            "_model_name": "HBoxModel",
            "_view_module": "@jupyter-widgets/controls",
            "_model_module_version": "1.5.0",
            "_view_count": null,
            "_view_module_version": "1.5.0",
            "box_style": "",
            "layout": "IPY_MODEL_9ebf40870131449782741d160637a0a4",
            "_model_module": "@jupyter-widgets/controls",
            "children": [
              "IPY_MODEL_012d9a2eb1354d7f9610bf924af49f0c",
              "IPY_MODEL_c36c18aaaabf41d0bbd94d9909db366f",
              "IPY_MODEL_c36013d559e74977959c4f464d17e067"
            ]
          }
        },
        "9ebf40870131449782741d160637a0a4": {
          "model_module": "@jupyter-widgets/base",
          "model_name": "LayoutModel",
          "model_module_version": "1.2.0",
          "state": {
            "_view_name": "LayoutView",
            "grid_template_rows": null,
            "right": null,
            "justify_content": null,
            "_view_module": "@jupyter-widgets/base",
            "overflow": null,
            "_model_module_version": "1.2.0",
            "_view_count": null,
            "flex_flow": null,
            "width": null,
            "min_width": null,
            "border": null,
            "align_items": null,
            "bottom": null,
            "_model_module": "@jupyter-widgets/base",
            "top": null,
            "grid_column": null,
            "overflow_y": null,
            "overflow_x": null,
            "grid_auto_flow": null,
            "grid_area": null,
            "grid_template_columns": null,
            "flex": null,
            "_model_name": "LayoutModel",
            "justify_items": null,
            "grid_row": null,
            "max_height": null,
            "align_content": null,
            "visibility": null,
            "align_self": null,
            "height": null,
            "min_height": null,
            "padding": null,
            "grid_auto_rows": null,
            "grid_gap": null,
            "max_width": null,
            "order": null,
            "_view_module_version": "1.2.0",
            "grid_template_areas": null,
            "object_position": null,
            "object_fit": null,
            "grid_auto_columns": null,
            "margin": null,
            "display": null,
            "left": null
          }
        },
        "012d9a2eb1354d7f9610bf924af49f0c": {
          "model_module": "@jupyter-widgets/controls",
          "model_name": "HTMLModel",
          "model_module_version": "1.5.0",
          "state": {
            "_view_name": "HTMLView",
            "style": "IPY_MODEL_33553366d5c44c4899b9e94f8c022e81",
            "_dom_classes": [],
            "description": "",
            "_model_name": "HTMLModel",
            "placeholder": "​",
            "_view_module": "@jupyter-widgets/controls",
            "_model_module_version": "1.5.0",
            "value": "Dl Size...: 100%",
            "_view_count": null,
            "_view_module_version": "1.5.0",
            "description_tooltip": null,
            "_model_module": "@jupyter-widgets/controls",
            "layout": "IPY_MODEL_09e86e79c56249a6a58b026a1cf9de43"
          }
        },
        "c36c18aaaabf41d0bbd94d9909db366f": {
          "model_module": "@jupyter-widgets/controls",
          "model_name": "FloatProgressModel",
          "model_module_version": "1.5.0",
          "state": {
            "_view_name": "ProgressView",
            "style": "IPY_MODEL_3f7e13789f8146a4b11a2cc15e5ee266",
            "_dom_classes": [],
            "description": "",
            "_model_name": "FloatProgressModel",
            "bar_style": "success",
            "max": 1,
            "_view_module": "@jupyter-widgets/controls",
            "_model_module_version": "1.5.0",
            "value": 1,
            "_view_count": null,
            "_view_module_version": "1.5.0",
            "orientation": "horizontal",
            "min": 0,
            "description_tooltip": null,
            "_model_module": "@jupyter-widgets/controls",
            "layout": "IPY_MODEL_a91353c616734e4cb071aef621a9e541"
          }
        },
        "c36013d559e74977959c4f464d17e067": {
          "model_module": "@jupyter-widgets/controls",
          "model_name": "HTMLModel",
          "model_module_version": "1.5.0",
          "state": {
            "_view_name": "HTMLView",
            "style": "IPY_MODEL_01ecb7d5ab6645a68900be2a70bfa9ca",
            "_dom_classes": [],
            "description": "",
            "_model_name": "HTMLModel",
            "placeholder": "​",
            "_view_module": "@jupyter-widgets/controls",
            "_model_module_version": "1.5.0",
            "value": " 162/162 [00:13&lt;00:00, 22.32 MiB/s]",
            "_view_count": null,
            "_view_module_version": "1.5.0",
            "description_tooltip": null,
            "_model_module": "@jupyter-widgets/controls",
            "layout": "IPY_MODEL_5f6cfb67a45648af8c834285cefa4098"
          }
        },
        "33553366d5c44c4899b9e94f8c022e81": {
          "model_module": "@jupyter-widgets/controls",
          "model_name": "DescriptionStyleModel",
          "model_module_version": "1.5.0",
          "state": {
            "_view_name": "StyleView",
            "_model_name": "DescriptionStyleModel",
            "description_width": "",
            "_view_module": "@jupyter-widgets/base",
            "_model_module_version": "1.5.0",
            "_view_count": null,
            "_view_module_version": "1.2.0",
            "_model_module": "@jupyter-widgets/controls"
          }
        },
        "09e86e79c56249a6a58b026a1cf9de43": {
          "model_module": "@jupyter-widgets/base",
          "model_name": "LayoutModel",
          "model_module_version": "1.2.0",
          "state": {
            "_view_name": "LayoutView",
            "grid_template_rows": null,
            "right": null,
            "justify_content": null,
            "_view_module": "@jupyter-widgets/base",
            "overflow": null,
            "_model_module_version": "1.2.0",
            "_view_count": null,
            "flex_flow": null,
            "width": null,
            "min_width": null,
            "border": null,
            "align_items": null,
            "bottom": null,
            "_model_module": "@jupyter-widgets/base",
            "top": null,
            "grid_column": null,
            "overflow_y": null,
            "overflow_x": null,
            "grid_auto_flow": null,
            "grid_area": null,
            "grid_template_columns": null,
            "flex": null,
            "_model_name": "LayoutModel",
            "justify_items": null,
            "grid_row": null,
            "max_height": null,
            "align_content": null,
            "visibility": null,
            "align_self": null,
            "height": null,
            "min_height": null,
            "padding": null,
            "grid_auto_rows": null,
            "grid_gap": null,
            "max_width": null,
            "order": null,
            "_view_module_version": "1.2.0",
            "grid_template_areas": null,
            "object_position": null,
            "object_fit": null,
            "grid_auto_columns": null,
            "margin": null,
            "display": null,
            "left": null
          }
        },
        "3f7e13789f8146a4b11a2cc15e5ee266": {
          "model_module": "@jupyter-widgets/controls",
          "model_name": "ProgressStyleModel",
          "model_module_version": "1.5.0",
          "state": {
            "_view_name": "StyleView",
            "_model_name": "ProgressStyleModel",
            "description_width": "",
            "_view_module": "@jupyter-widgets/base",
            "_model_module_version": "1.5.0",
            "_view_count": null,
            "_view_module_version": "1.2.0",
            "bar_color": null,
            "_model_module": "@jupyter-widgets/controls"
          }
        },
        "a91353c616734e4cb071aef621a9e541": {
          "model_module": "@jupyter-widgets/base",
          "model_name": "LayoutModel",
          "model_module_version": "1.2.0",
          "state": {
            "_view_name": "LayoutView",
            "grid_template_rows": null,
            "right": null,
            "justify_content": null,
            "_view_module": "@jupyter-widgets/base",
            "overflow": null,
            "_model_module_version": "1.2.0",
            "_view_count": null,
            "flex_flow": null,
            "width": "20px",
            "min_width": null,
            "border": null,
            "align_items": null,
            "bottom": null,
            "_model_module": "@jupyter-widgets/base",
            "top": null,
            "grid_column": null,
            "overflow_y": null,
            "overflow_x": null,
            "grid_auto_flow": null,
            "grid_area": null,
            "grid_template_columns": null,
            "flex": null,
            "_model_name": "LayoutModel",
            "justify_items": null,
            "grid_row": null,
            "max_height": null,
            "align_content": null,
            "visibility": null,
            "align_self": null,
            "height": null,
            "min_height": null,
            "padding": null,
            "grid_auto_rows": null,
            "grid_gap": null,
            "max_width": null,
            "order": null,
            "_view_module_version": "1.2.0",
            "grid_template_areas": null,
            "object_position": null,
            "object_fit": null,
            "grid_auto_columns": null,
            "margin": null,
            "display": null,
            "left": null
          }
        },
        "01ecb7d5ab6645a68900be2a70bfa9ca": {
          "model_module": "@jupyter-widgets/controls",
          "model_name": "DescriptionStyleModel",
          "model_module_version": "1.5.0",
          "state": {
            "_view_name": "StyleView",
            "_model_name": "DescriptionStyleModel",
            "description_width": "",
            "_view_module": "@jupyter-widgets/base",
            "_model_module_version": "1.5.0",
            "_view_count": null,
            "_view_module_version": "1.2.0",
            "_model_module": "@jupyter-widgets/controls"
          }
        },
        "5f6cfb67a45648af8c834285cefa4098": {
          "model_module": "@jupyter-widgets/base",
          "model_name": "LayoutModel",
          "model_module_version": "1.2.0",
          "state": {
            "_view_name": "LayoutView",
            "grid_template_rows": null,
            "right": null,
            "justify_content": null,
            "_view_module": "@jupyter-widgets/base",
            "overflow": null,
            "_model_module_version": "1.2.0",
            "_view_count": null,
            "flex_flow": null,
            "width": null,
            "min_width": null,
            "border": null,
            "align_items": null,
            "bottom": null,
            "_model_module": "@jupyter-widgets/base",
            "top": null,
            "grid_column": null,
            "overflow_y": null,
            "overflow_x": null,
            "grid_auto_flow": null,
            "grid_area": null,
            "grid_template_columns": null,
            "flex": null,
            "_model_name": "LayoutModel",
            "justify_items": null,
            "grid_row": null,
            "max_height": null,
            "align_content": null,
            "visibility": null,
            "align_self": null,
            "height": null,
            "min_height": null,
            "padding": null,
            "grid_auto_rows": null,
            "grid_gap": null,
            "max_width": null,
            "order": null,
            "_view_module_version": "1.2.0",
            "grid_template_areas": null,
            "object_position": null,
            "object_fit": null,
            "grid_auto_columns": null,
            "margin": null,
            "display": null,
            "left": null
          }
        },
        "aa5f288a632543f78e181e26ba099bc1": {
          "model_module": "@jupyter-widgets/controls",
          "model_name": "HBoxModel",
          "model_module_version": "1.5.0",
          "state": {
            "_view_name": "HBoxView",
            "_dom_classes": [],
            "_model_name": "HBoxModel",
            "_view_module": "@jupyter-widgets/controls",
            "_model_module_version": "1.5.0",
            "_view_count": null,
            "_view_module_version": "1.5.0",
            "box_style": "",
            "layout": "IPY_MODEL_4d5ad8219be145229c6accdaf034cb25",
            "_model_module": "@jupyter-widgets/controls",
            "children": [
              "IPY_MODEL_b3651aabc2c84c969578c1debb6c9b9d",
              "IPY_MODEL_cd5b58507ff64226ba50a3c0418fa368",
              "IPY_MODEL_620746a934af4ccda511f5cc976c39fb"
            ]
          }
        },
        "4d5ad8219be145229c6accdaf034cb25": {
          "model_module": "@jupyter-widgets/base",
          "model_name": "LayoutModel",
          "model_module_version": "1.2.0",
          "state": {
            "_view_name": "LayoutView",
            "grid_template_rows": null,
            "right": null,
            "justify_content": null,
            "_view_module": "@jupyter-widgets/base",
            "overflow": null,
            "_model_module_version": "1.2.0",
            "_view_count": null,
            "flex_flow": null,
            "width": null,
            "min_width": null,
            "border": null,
            "align_items": null,
            "bottom": null,
            "_model_module": "@jupyter-widgets/base",
            "top": null,
            "grid_column": null,
            "overflow_y": null,
            "overflow_x": null,
            "grid_auto_flow": null,
            "grid_area": null,
            "grid_template_columns": null,
            "flex": null,
            "_model_name": "LayoutModel",
            "justify_items": null,
            "grid_row": null,
            "max_height": null,
            "align_content": null,
            "visibility": null,
            "align_self": null,
            "height": null,
            "min_height": null,
            "padding": null,
            "grid_auto_rows": null,
            "grid_gap": null,
            "max_width": null,
            "order": null,
            "_view_module_version": "1.2.0",
            "grid_template_areas": null,
            "object_position": null,
            "object_fit": null,
            "grid_auto_columns": null,
            "margin": null,
            "display": null,
            "left": null
          }
        },
        "b3651aabc2c84c969578c1debb6c9b9d": {
          "model_module": "@jupyter-widgets/controls",
          "model_name": "HTMLModel",
          "model_module_version": "1.5.0",
          "state": {
            "_view_name": "HTMLView",
            "style": "IPY_MODEL_9f8b829e08164e93b6330ee723efa8cd",
            "_dom_classes": [],
            "description": "",
            "_model_name": "HTMLModel",
            "placeholder": "​",
            "_view_module": "@jupyter-widgets/controls",
            "_model_module_version": "1.5.0",
            "value": "Extraction completed...: 100%",
            "_view_count": null,
            "_view_module_version": "1.5.0",
            "description_tooltip": null,
            "_model_module": "@jupyter-widgets/controls",
            "layout": "IPY_MODEL_26035aaea63b4530af510fb2b402bb65"
          }
        },
        "cd5b58507ff64226ba50a3c0418fa368": {
          "model_module": "@jupyter-widgets/controls",
          "model_name": "FloatProgressModel",
          "model_module_version": "1.5.0",
          "state": {
            "_view_name": "ProgressView",
            "style": "IPY_MODEL_834899e5babf4cbbb56dcf780b5f6ff4",
            "_dom_classes": [],
            "description": "",
            "_model_name": "FloatProgressModel",
            "bar_style": "success",
            "max": 1,
            "_view_module": "@jupyter-widgets/controls",
            "_model_module_version": "1.5.0",
            "value": 1,
            "_view_count": null,
            "_view_module_version": "1.5.0",
            "orientation": "horizontal",
            "min": 0,
            "description_tooltip": null,
            "_model_module": "@jupyter-widgets/controls",
            "layout": "IPY_MODEL_92eb40e24f564b9f83d2e582e4264f6b"
          }
        },
        "620746a934af4ccda511f5cc976c39fb": {
          "model_module": "@jupyter-widgets/controls",
          "model_name": "HTMLModel",
          "model_module_version": "1.5.0",
          "state": {
            "_view_name": "HTMLView",
            "style": "IPY_MODEL_4a280e5174a64eb1a5564747980ab0c7",
            "_dom_classes": [],
            "description": "",
            "_model_name": "HTMLModel",
            "placeholder": "​",
            "_view_module": "@jupyter-widgets/controls",
            "_model_module_version": "1.5.0",
            "value": " 1/1 [00:13&lt;00:00, 13.37s/ file]",
            "_view_count": null,
            "_view_module_version": "1.5.0",
            "description_tooltip": null,
            "_model_module": "@jupyter-widgets/controls",
            "layout": "IPY_MODEL_f78c16c0f5274d3a8c52ac33c87de8f8"
          }
        },
        "9f8b829e08164e93b6330ee723efa8cd": {
          "model_module": "@jupyter-widgets/controls",
          "model_name": "DescriptionStyleModel",
          "model_module_version": "1.5.0",
          "state": {
            "_view_name": "StyleView",
            "_model_name": "DescriptionStyleModel",
            "description_width": "",
            "_view_module": "@jupyter-widgets/base",
            "_model_module_version": "1.5.0",
            "_view_count": null,
            "_view_module_version": "1.2.0",
            "_model_module": "@jupyter-widgets/controls"
          }
        },
        "26035aaea63b4530af510fb2b402bb65": {
          "model_module": "@jupyter-widgets/base",
          "model_name": "LayoutModel",
          "model_module_version": "1.2.0",
          "state": {
            "_view_name": "LayoutView",
            "grid_template_rows": null,
            "right": null,
            "justify_content": null,
            "_view_module": "@jupyter-widgets/base",
            "overflow": null,
            "_model_module_version": "1.2.0",
            "_view_count": null,
            "flex_flow": null,
            "width": null,
            "min_width": null,
            "border": null,
            "align_items": null,
            "bottom": null,
            "_model_module": "@jupyter-widgets/base",
            "top": null,
            "grid_column": null,
            "overflow_y": null,
            "overflow_x": null,
            "grid_auto_flow": null,
            "grid_area": null,
            "grid_template_columns": null,
            "flex": null,
            "_model_name": "LayoutModel",
            "justify_items": null,
            "grid_row": null,
            "max_height": null,
            "align_content": null,
            "visibility": null,
            "align_self": null,
            "height": null,
            "min_height": null,
            "padding": null,
            "grid_auto_rows": null,
            "grid_gap": null,
            "max_width": null,
            "order": null,
            "_view_module_version": "1.2.0",
            "grid_template_areas": null,
            "object_position": null,
            "object_fit": null,
            "grid_auto_columns": null,
            "margin": null,
            "display": null,
            "left": null
          }
        },
        "834899e5babf4cbbb56dcf780b5f6ff4": {
          "model_module": "@jupyter-widgets/controls",
          "model_name": "ProgressStyleModel",
          "model_module_version": "1.5.0",
          "state": {
            "_view_name": "StyleView",
            "_model_name": "ProgressStyleModel",
            "description_width": "",
            "_view_module": "@jupyter-widgets/base",
            "_model_module_version": "1.5.0",
            "_view_count": null,
            "_view_module_version": "1.2.0",
            "bar_color": null,
            "_model_module": "@jupyter-widgets/controls"
          }
        },
        "92eb40e24f564b9f83d2e582e4264f6b": {
          "model_module": "@jupyter-widgets/base",
          "model_name": "LayoutModel",
          "model_module_version": "1.2.0",
          "state": {
            "_view_name": "LayoutView",
            "grid_template_rows": null,
            "right": null,
            "justify_content": null,
            "_view_module": "@jupyter-widgets/base",
            "overflow": null,
            "_model_module_version": "1.2.0",
            "_view_count": null,
            "flex_flow": null,
            "width": "20px",
            "min_width": null,
            "border": null,
            "align_items": null,
            "bottom": null,
            "_model_module": "@jupyter-widgets/base",
            "top": null,
            "grid_column": null,
            "overflow_y": null,
            "overflow_x": null,
            "grid_auto_flow": null,
            "grid_area": null,
            "grid_template_columns": null,
            "flex": null,
            "_model_name": "LayoutModel",
            "justify_items": null,
            "grid_row": null,
            "max_height": null,
            "align_content": null,
            "visibility": null,
            "align_self": null,
            "height": null,
            "min_height": null,
            "padding": null,
            "grid_auto_rows": null,
            "grid_gap": null,
            "max_width": null,
            "order": null,
            "_view_module_version": "1.2.0",
            "grid_template_areas": null,
            "object_position": null,
            "object_fit": null,
            "grid_auto_columns": null,
            "margin": null,
            "display": null,
            "left": null
          }
        },
        "4a280e5174a64eb1a5564747980ab0c7": {
          "model_module": "@jupyter-widgets/controls",
          "model_name": "DescriptionStyleModel",
          "model_module_version": "1.5.0",
          "state": {
            "_view_name": "StyleView",
            "_model_name": "DescriptionStyleModel",
            "description_width": "",
            "_view_module": "@jupyter-widgets/base",
            "_model_module_version": "1.5.0",
            "_view_count": null,
            "_view_module_version": "1.2.0",
            "_model_module": "@jupyter-widgets/controls"
          }
        },
        "f78c16c0f5274d3a8c52ac33c87de8f8": {
          "model_module": "@jupyter-widgets/base",
          "model_name": "LayoutModel",
          "model_module_version": "1.2.0",
          "state": {
            "_view_name": "LayoutView",
            "grid_template_rows": null,
            "right": null,
            "justify_content": null,
            "_view_module": "@jupyter-widgets/base",
            "overflow": null,
            "_model_module_version": "1.2.0",
            "_view_count": null,
            "flex_flow": null,
            "width": null,
            "min_width": null,
            "border": null,
            "align_items": null,
            "bottom": null,
            "_model_module": "@jupyter-widgets/base",
            "top": null,
            "grid_column": null,
            "overflow_y": null,
            "overflow_x": null,
            "grid_auto_flow": null,
            "grid_area": null,
            "grid_template_columns": null,
            "flex": null,
            "_model_name": "LayoutModel",
            "justify_items": null,
            "grid_row": null,
            "max_height": null,
            "align_content": null,
            "visibility": null,
            "align_self": null,
            "height": null,
            "min_height": null,
            "padding": null,
            "grid_auto_rows": null,
            "grid_gap": null,
            "max_width": null,
            "order": null,
            "_view_module_version": "1.2.0",
            "grid_template_areas": null,
            "object_position": null,
            "object_fit": null,
            "grid_auto_columns": null,
            "margin": null,
            "display": null,
            "left": null
          }
        },
        "6f032b1334cd4f6ba4c970cb681f9d07": {
          "model_module": "@jupyter-widgets/controls",
          "model_name": "HBoxModel",
          "model_module_version": "1.5.0",
          "state": {
            "_view_name": "HBoxView",
            "_dom_classes": [],
            "_model_name": "HBoxModel",
            "_view_module": "@jupyter-widgets/controls",
            "_model_module_version": "1.5.0",
            "_view_count": null,
            "_view_module_version": "1.5.0",
            "box_style": "",
            "layout": "IPY_MODEL_d5759127b5f2439b8714de07a9c12932",
            "_model_module": "@jupyter-widgets/controls",
            "children": [
              "IPY_MODEL_f153c7dd0ed640ef8f8ae4a88648573b",
              "IPY_MODEL_9bac547f8b9d474eb481b5ef3adda078",
              "IPY_MODEL_43cd95ae5a9f436e8878da52cef749da"
            ]
          }
        },
        "d5759127b5f2439b8714de07a9c12932": {
          "model_module": "@jupyter-widgets/base",
          "model_name": "LayoutModel",
          "model_module_version": "1.2.0",
          "state": {
            "_view_name": "LayoutView",
            "grid_template_rows": null,
            "right": null,
            "justify_content": null,
            "_view_module": "@jupyter-widgets/base",
            "overflow": null,
            "_model_module_version": "1.2.0",
            "_view_count": null,
            "flex_flow": null,
            "width": null,
            "min_width": null,
            "border": null,
            "align_items": null,
            "bottom": null,
            "_model_module": "@jupyter-widgets/base",
            "top": null,
            "grid_column": null,
            "overflow_y": null,
            "overflow_x": null,
            "grid_auto_flow": null,
            "grid_area": null,
            "grid_template_columns": null,
            "flex": null,
            "_model_name": "LayoutModel",
            "justify_items": null,
            "grid_row": null,
            "max_height": null,
            "align_content": null,
            "visibility": null,
            "align_self": null,
            "height": null,
            "min_height": null,
            "padding": null,
            "grid_auto_rows": null,
            "grid_gap": null,
            "max_width": null,
            "order": null,
            "_view_module_version": "1.2.0",
            "grid_template_areas": null,
            "object_position": null,
            "object_fit": null,
            "grid_auto_columns": null,
            "margin": null,
            "display": null,
            "left": null
          }
        },
        "f153c7dd0ed640ef8f8ae4a88648573b": {
          "model_module": "@jupyter-widgets/controls",
          "model_name": "HTMLModel",
          "model_module_version": "1.5.0",
          "state": {
            "_view_name": "HTMLView",
            "style": "IPY_MODEL_4572e6a90c2d45c68c577cfb79bae4d5",
            "_dom_classes": [],
            "description": "",
            "_model_name": "HTMLModel",
            "placeholder": "​",
            "_view_module": "@jupyter-widgets/controls",
            "_model_module_version": "1.5.0",
            "value": "Generating splits...: 100%",
            "_view_count": null,
            "_view_module_version": "1.5.0",
            "description_tooltip": null,
            "_model_module": "@jupyter-widgets/controls",
            "layout": "IPY_MODEL_672841e5f9274b5db3abbcd0e6174d19"
          }
        },
        "9bac547f8b9d474eb481b5ef3adda078": {
          "model_module": "@jupyter-widgets/controls",
          "model_name": "FloatProgressModel",
          "model_module_version": "1.5.0",
          "state": {
            "_view_name": "ProgressView",
            "style": "IPY_MODEL_7b2cb7cee6fc4400b94172949464a7b5",
            "_dom_classes": [],
            "description": "",
            "_model_name": "FloatProgressModel",
            "bar_style": "",
            "max": 2,
            "_view_module": "@jupyter-widgets/controls",
            "_model_module_version": "1.5.0",
            "value": 2,
            "_view_count": null,
            "_view_module_version": "1.5.0",
            "orientation": "horizontal",
            "min": 0,
            "description_tooltip": null,
            "_model_module": "@jupyter-widgets/controls",
            "layout": "IPY_MODEL_f79db208813a45a0960593375f450c06"
          }
        },
        "43cd95ae5a9f436e8878da52cef749da": {
          "model_module": "@jupyter-widgets/controls",
          "model_name": "HTMLModel",
          "model_module_version": "1.5.0",
          "state": {
            "_view_name": "HTMLView",
            "style": "IPY_MODEL_80569f32b79943bca75c34c56e5744fb",
            "_dom_classes": [],
            "description": "",
            "_model_name": "HTMLModel",
            "placeholder": "​",
            "_view_module": "@jupyter-widgets/controls",
            "_model_module_version": "1.5.0",
            "value": " 2/2 [01:18&lt;00:00, 34.87s/ splits]",
            "_view_count": null,
            "_view_module_version": "1.5.0",
            "description_tooltip": null,
            "_model_module": "@jupyter-widgets/controls",
            "layout": "IPY_MODEL_7b1f1a6bfea04aee99f0665ef064aef8"
          }
        },
        "4572e6a90c2d45c68c577cfb79bae4d5": {
          "model_module": "@jupyter-widgets/controls",
          "model_name": "DescriptionStyleModel",
          "model_module_version": "1.5.0",
          "state": {
            "_view_name": "StyleView",
            "_model_name": "DescriptionStyleModel",
            "description_width": "",
            "_view_module": "@jupyter-widgets/base",
            "_model_module_version": "1.5.0",
            "_view_count": null,
            "_view_module_version": "1.2.0",
            "_model_module": "@jupyter-widgets/controls"
          }
        },
        "672841e5f9274b5db3abbcd0e6174d19": {
          "model_module": "@jupyter-widgets/base",
          "model_name": "LayoutModel",
          "model_module_version": "1.2.0",
          "state": {
            "_view_name": "LayoutView",
            "grid_template_rows": null,
            "right": null,
            "justify_content": null,
            "_view_module": "@jupyter-widgets/base",
            "overflow": null,
            "_model_module_version": "1.2.0",
            "_view_count": null,
            "flex_flow": null,
            "width": null,
            "min_width": null,
            "border": null,
            "align_items": null,
            "bottom": null,
            "_model_module": "@jupyter-widgets/base",
            "top": null,
            "grid_column": null,
            "overflow_y": null,
            "overflow_x": null,
            "grid_auto_flow": null,
            "grid_area": null,
            "grid_template_columns": null,
            "flex": null,
            "_model_name": "LayoutModel",
            "justify_items": null,
            "grid_row": null,
            "max_height": null,
            "align_content": null,
            "visibility": null,
            "align_self": null,
            "height": null,
            "min_height": null,
            "padding": null,
            "grid_auto_rows": null,
            "grid_gap": null,
            "max_width": null,
            "order": null,
            "_view_module_version": "1.2.0",
            "grid_template_areas": null,
            "object_position": null,
            "object_fit": null,
            "grid_auto_columns": null,
            "margin": null,
            "display": null,
            "left": null
          }
        },
        "7b2cb7cee6fc4400b94172949464a7b5": {
          "model_module": "@jupyter-widgets/controls",
          "model_name": "ProgressStyleModel",
          "model_module_version": "1.5.0",
          "state": {
            "_view_name": "StyleView",
            "_model_name": "ProgressStyleModel",
            "description_width": "",
            "_view_module": "@jupyter-widgets/base",
            "_model_module_version": "1.5.0",
            "_view_count": null,
            "_view_module_version": "1.2.0",
            "bar_color": null,
            "_model_module": "@jupyter-widgets/controls"
          }
        },
        "f79db208813a45a0960593375f450c06": {
          "model_module": "@jupyter-widgets/base",
          "model_name": "LayoutModel",
          "model_module_version": "1.2.0",
          "state": {
            "_view_name": "LayoutView",
            "grid_template_rows": null,
            "right": null,
            "justify_content": null,
            "_view_module": "@jupyter-widgets/base",
            "overflow": null,
            "_model_module_version": "1.2.0",
            "_view_count": null,
            "flex_flow": null,
            "width": null,
            "min_width": null,
            "border": null,
            "align_items": null,
            "bottom": null,
            "_model_module": "@jupyter-widgets/base",
            "top": null,
            "grid_column": null,
            "overflow_y": null,
            "overflow_x": null,
            "grid_auto_flow": null,
            "grid_area": null,
            "grid_template_columns": null,
            "flex": null,
            "_model_name": "LayoutModel",
            "justify_items": null,
            "grid_row": null,
            "max_height": null,
            "align_content": null,
            "visibility": null,
            "align_self": null,
            "height": null,
            "min_height": null,
            "padding": null,
            "grid_auto_rows": null,
            "grid_gap": null,
            "max_width": null,
            "order": null,
            "_view_module_version": "1.2.0",
            "grid_template_areas": null,
            "object_position": null,
            "object_fit": null,
            "grid_auto_columns": null,
            "margin": null,
            "display": null,
            "left": null
          }
        },
        "80569f32b79943bca75c34c56e5744fb": {
          "model_module": "@jupyter-widgets/controls",
          "model_name": "DescriptionStyleModel",
          "model_module_version": "1.5.0",
          "state": {
            "_view_name": "StyleView",
            "_model_name": "DescriptionStyleModel",
            "description_width": "",
            "_view_module": "@jupyter-widgets/base",
            "_model_module_version": "1.5.0",
            "_view_count": null,
            "_view_module_version": "1.2.0",
            "_model_module": "@jupyter-widgets/controls"
          }
        },
        "7b1f1a6bfea04aee99f0665ef064aef8": {
          "model_module": "@jupyter-widgets/base",
          "model_name": "LayoutModel",
          "model_module_version": "1.2.0",
          "state": {
            "_view_name": "LayoutView",
            "grid_template_rows": null,
            "right": null,
            "justify_content": null,
            "_view_module": "@jupyter-widgets/base",
            "overflow": null,
            "_model_module_version": "1.2.0",
            "_view_count": null,
            "flex_flow": null,
            "width": null,
            "min_width": null,
            "border": null,
            "align_items": null,
            "bottom": null,
            "_model_module": "@jupyter-widgets/base",
            "top": null,
            "grid_column": null,
            "overflow_y": null,
            "overflow_x": null,
            "grid_auto_flow": null,
            "grid_area": null,
            "grid_template_columns": null,
            "flex": null,
            "_model_name": "LayoutModel",
            "justify_items": null,
            "grid_row": null,
            "max_height": null,
            "align_content": null,
            "visibility": null,
            "align_self": null,
            "height": null,
            "min_height": null,
            "padding": null,
            "grid_auto_rows": null,
            "grid_gap": null,
            "max_width": null,
            "order": null,
            "_view_module_version": "1.2.0",
            "grid_template_areas": null,
            "object_position": null,
            "object_fit": null,
            "grid_auto_columns": null,
            "margin": null,
            "display": null,
            "left": null
          }
        },
        "6d37457afac2465d95de2831d9fb936c": {
          "model_module": "@jupyter-widgets/controls",
          "model_name": "HBoxModel",
          "model_module_version": "1.5.0",
          "state": {
            "_view_name": "HBoxView",
            "_dom_classes": [],
            "_model_name": "HBoxModel",
            "_view_module": "@jupyter-widgets/controls",
            "_model_module_version": "1.5.0",
            "_view_count": null,
            "_view_module_version": "1.5.0",
            "box_style": "",
            "layout": "IPY_MODEL_386c4af1b85a46b8a6260de5107c7ffc",
            "_model_module": "@jupyter-widgets/controls",
            "children": [
              "IPY_MODEL_44df168ee9dc43a981ed5bdb649a0ba9",
              "IPY_MODEL_748cd9d1bc5448389be0ceb3af2cf942",
              "IPY_MODEL_07eb36c61fd44e5fa5fe76ea15503f37"
            ]
          }
        },
        "386c4af1b85a46b8a6260de5107c7ffc": {
          "model_module": "@jupyter-widgets/base",
          "model_name": "LayoutModel",
          "model_module_version": "1.2.0",
          "state": {
            "_view_name": "LayoutView",
            "grid_template_rows": null,
            "right": null,
            "justify_content": null,
            "_view_module": "@jupyter-widgets/base",
            "overflow": null,
            "_model_module_version": "1.2.0",
            "_view_count": null,
            "flex_flow": null,
            "width": null,
            "min_width": null,
            "border": null,
            "align_items": null,
            "bottom": null,
            "_model_module": "@jupyter-widgets/base",
            "top": null,
            "grid_column": null,
            "overflow_y": null,
            "overflow_x": null,
            "grid_auto_flow": null,
            "grid_area": null,
            "grid_template_columns": null,
            "flex": null,
            "_model_name": "LayoutModel",
            "justify_items": null,
            "grid_row": null,
            "max_height": null,
            "align_content": null,
            "visibility": null,
            "align_self": null,
            "height": null,
            "min_height": null,
            "padding": null,
            "grid_auto_rows": null,
            "grid_gap": null,
            "max_width": null,
            "order": null,
            "_view_module_version": "1.2.0",
            "grid_template_areas": null,
            "object_position": null,
            "object_fit": null,
            "grid_auto_columns": null,
            "margin": null,
            "display": null,
            "left": null
          }
        },
        "44df168ee9dc43a981ed5bdb649a0ba9": {
          "model_module": "@jupyter-widgets/controls",
          "model_name": "HTMLModel",
          "model_module_version": "1.5.0",
          "state": {
            "_view_name": "HTMLView",
            "style": "IPY_MODEL_c7b03d7f90bb4b63ba5436e262ee930c",
            "_dom_classes": [],
            "description": "",
            "_model_name": "HTMLModel",
            "placeholder": "​",
            "_view_module": "@jupyter-widgets/controls",
            "_model_module_version": "1.5.0",
            "value": "Generating train examples...: 100%",
            "_view_count": null,
            "_view_module_version": "1.5.0",
            "description_tooltip": null,
            "_model_module": "@jupyter-widgets/controls",
            "layout": "IPY_MODEL_fc4ccec3d107499a9bf77eaba1cf8247"
          }
        },
        "748cd9d1bc5448389be0ceb3af2cf942": {
          "model_module": "@jupyter-widgets/controls",
          "model_name": "FloatProgressModel",
          "model_module_version": "1.5.0",
          "state": {
            "_view_name": "ProgressView",
            "style": "IPY_MODEL_73065f9fe1484c4783df2113c4ead761",
            "_dom_classes": [],
            "description": "",
            "_model_name": "FloatProgressModel",
            "bar_style": "",
            "max": 50000,
            "_view_module": "@jupyter-widgets/controls",
            "_model_module_version": "1.5.0",
            "value": 50000,
            "_view_count": null,
            "_view_module_version": "1.5.0",
            "orientation": "horizontal",
            "min": 0,
            "description_tooltip": null,
            "_model_module": "@jupyter-widgets/controls",
            "layout": "IPY_MODEL_640a2ce71a224f07912e950734a6a6c2"
          }
        },
        "07eb36c61fd44e5fa5fe76ea15503f37": {
          "model_module": "@jupyter-widgets/controls",
          "model_name": "HTMLModel",
          "model_module_version": "1.5.0",
          "state": {
            "_view_name": "HTMLView",
            "style": "IPY_MODEL_80ba83ca628044c4adb31b7c74c6b72e",
            "_dom_classes": [],
            "description": "",
            "_model_name": "HTMLModel",
            "placeholder": "​",
            "_view_module": "@jupyter-widgets/controls",
            "_model_module_version": "1.5.0",
            "value": " 49945/50000 [01:02&lt;00:00, 854.46 examples/s]",
            "_view_count": null,
            "_view_module_version": "1.5.0",
            "description_tooltip": null,
            "_model_module": "@jupyter-widgets/controls",
            "layout": "IPY_MODEL_4b213a1bb6694cacad3f174b477dc989"
          }
        },
        "c7b03d7f90bb4b63ba5436e262ee930c": {
          "model_module": "@jupyter-widgets/controls",
          "model_name": "DescriptionStyleModel",
          "model_module_version": "1.5.0",
          "state": {
            "_view_name": "StyleView",
            "_model_name": "DescriptionStyleModel",
            "description_width": "",
            "_view_module": "@jupyter-widgets/base",
            "_model_module_version": "1.5.0",
            "_view_count": null,
            "_view_module_version": "1.2.0",
            "_model_module": "@jupyter-widgets/controls"
          }
        },
        "fc4ccec3d107499a9bf77eaba1cf8247": {
          "model_module": "@jupyter-widgets/base",
          "model_name": "LayoutModel",
          "model_module_version": "1.2.0",
          "state": {
            "_view_name": "LayoutView",
            "grid_template_rows": null,
            "right": null,
            "justify_content": null,
            "_view_module": "@jupyter-widgets/base",
            "overflow": null,
            "_model_module_version": "1.2.0",
            "_view_count": null,
            "flex_flow": null,
            "width": null,
            "min_width": null,
            "border": null,
            "align_items": null,
            "bottom": null,
            "_model_module": "@jupyter-widgets/base",
            "top": null,
            "grid_column": null,
            "overflow_y": null,
            "overflow_x": null,
            "grid_auto_flow": null,
            "grid_area": null,
            "grid_template_columns": null,
            "flex": null,
            "_model_name": "LayoutModel",
            "justify_items": null,
            "grid_row": null,
            "max_height": null,
            "align_content": null,
            "visibility": null,
            "align_self": null,
            "height": null,
            "min_height": null,
            "padding": null,
            "grid_auto_rows": null,
            "grid_gap": null,
            "max_width": null,
            "order": null,
            "_view_module_version": "1.2.0",
            "grid_template_areas": null,
            "object_position": null,
            "object_fit": null,
            "grid_auto_columns": null,
            "margin": null,
            "display": null,
            "left": null
          }
        },
        "73065f9fe1484c4783df2113c4ead761": {
          "model_module": "@jupyter-widgets/controls",
          "model_name": "ProgressStyleModel",
          "model_module_version": "1.5.0",
          "state": {
            "_view_name": "StyleView",
            "_model_name": "ProgressStyleModel",
            "description_width": "",
            "_view_module": "@jupyter-widgets/base",
            "_model_module_version": "1.5.0",
            "_view_count": null,
            "_view_module_version": "1.2.0",
            "bar_color": null,
            "_model_module": "@jupyter-widgets/controls"
          }
        },
        "640a2ce71a224f07912e950734a6a6c2": {
          "model_module": "@jupyter-widgets/base",
          "model_name": "LayoutModel",
          "model_module_version": "1.2.0",
          "state": {
            "_view_name": "LayoutView",
            "grid_template_rows": null,
            "right": null,
            "justify_content": null,
            "_view_module": "@jupyter-widgets/base",
            "overflow": null,
            "_model_module_version": "1.2.0",
            "_view_count": null,
            "flex_flow": null,
            "width": null,
            "min_width": null,
            "border": null,
            "align_items": null,
            "bottom": null,
            "_model_module": "@jupyter-widgets/base",
            "top": null,
            "grid_column": null,
            "overflow_y": null,
            "overflow_x": null,
            "grid_auto_flow": null,
            "grid_area": null,
            "grid_template_columns": null,
            "flex": null,
            "_model_name": "LayoutModel",
            "justify_items": null,
            "grid_row": null,
            "max_height": null,
            "align_content": null,
            "visibility": null,
            "align_self": null,
            "height": null,
            "min_height": null,
            "padding": null,
            "grid_auto_rows": null,
            "grid_gap": null,
            "max_width": null,
            "order": null,
            "_view_module_version": "1.2.0",
            "grid_template_areas": null,
            "object_position": null,
            "object_fit": null,
            "grid_auto_columns": null,
            "margin": null,
            "display": null,
            "left": null
          }
        },
        "80ba83ca628044c4adb31b7c74c6b72e": {
          "model_module": "@jupyter-widgets/controls",
          "model_name": "DescriptionStyleModel",
          "model_module_version": "1.5.0",
          "state": {
            "_view_name": "StyleView",
            "_model_name": "DescriptionStyleModel",
            "description_width": "",
            "_view_module": "@jupyter-widgets/base",
            "_model_module_version": "1.5.0",
            "_view_count": null,
            "_view_module_version": "1.2.0",
            "_model_module": "@jupyter-widgets/controls"
          }
        },
        "4b213a1bb6694cacad3f174b477dc989": {
          "model_module": "@jupyter-widgets/base",
          "model_name": "LayoutModel",
          "model_module_version": "1.2.0",
          "state": {
            "_view_name": "LayoutView",
            "grid_template_rows": null,
            "right": null,
            "justify_content": null,
            "_view_module": "@jupyter-widgets/base",
            "overflow": null,
            "_model_module_version": "1.2.0",
            "_view_count": null,
            "flex_flow": null,
            "width": null,
            "min_width": null,
            "border": null,
            "align_items": null,
            "bottom": null,
            "_model_module": "@jupyter-widgets/base",
            "top": null,
            "grid_column": null,
            "overflow_y": null,
            "overflow_x": null,
            "grid_auto_flow": null,
            "grid_area": null,
            "grid_template_columns": null,
            "flex": null,
            "_model_name": "LayoutModel",
            "justify_items": null,
            "grid_row": null,
            "max_height": null,
            "align_content": null,
            "visibility": null,
            "align_self": null,
            "height": null,
            "min_height": null,
            "padding": null,
            "grid_auto_rows": null,
            "grid_gap": null,
            "max_width": null,
            "order": null,
            "_view_module_version": "1.2.0",
            "grid_template_areas": null,
            "object_position": null,
            "object_fit": null,
            "grid_auto_columns": null,
            "margin": null,
            "display": null,
            "left": null
          }
        },
        "483997f367174e588894f3bf0ac515bc": {
          "model_module": "@jupyter-widgets/controls",
          "model_name": "HBoxModel",
          "model_module_version": "1.5.0",
          "state": {
            "_view_name": "HBoxView",
            "_dom_classes": [],
            "_model_name": "HBoxModel",
            "_view_module": "@jupyter-widgets/controls",
            "_model_module_version": "1.5.0",
            "_view_count": null,
            "_view_module_version": "1.5.0",
            "box_style": "",
            "layout": "IPY_MODEL_414adae449f340dd949ede8c971d3702",
            "_model_module": "@jupyter-widgets/controls",
            "children": [
              "IPY_MODEL_51cfac99344d4870b7f61cd7a651c1b4",
              "IPY_MODEL_e4dd9c95336a4ce6bfe7a8905fe0e145",
              "IPY_MODEL_62ee9b09de454572a44b8fa8a4d6840c"
            ]
          }
        },
        "414adae449f340dd949ede8c971d3702": {
          "model_module": "@jupyter-widgets/base",
          "model_name": "LayoutModel",
          "model_module_version": "1.2.0",
          "state": {
            "_view_name": "LayoutView",
            "grid_template_rows": null,
            "right": null,
            "justify_content": null,
            "_view_module": "@jupyter-widgets/base",
            "overflow": null,
            "_model_module_version": "1.2.0",
            "_view_count": null,
            "flex_flow": null,
            "width": null,
            "min_width": null,
            "border": null,
            "align_items": null,
            "bottom": null,
            "_model_module": "@jupyter-widgets/base",
            "top": null,
            "grid_column": null,
            "overflow_y": null,
            "overflow_x": null,
            "grid_auto_flow": null,
            "grid_area": null,
            "grid_template_columns": null,
            "flex": null,
            "_model_name": "LayoutModel",
            "justify_items": null,
            "grid_row": null,
            "max_height": null,
            "align_content": null,
            "visibility": null,
            "align_self": null,
            "height": null,
            "min_height": null,
            "padding": null,
            "grid_auto_rows": null,
            "grid_gap": null,
            "max_width": null,
            "order": null,
            "_view_module_version": "1.2.0",
            "grid_template_areas": null,
            "object_position": null,
            "object_fit": null,
            "grid_auto_columns": null,
            "margin": null,
            "display": null,
            "left": null
          }
        },
        "51cfac99344d4870b7f61cd7a651c1b4": {
          "model_module": "@jupyter-widgets/controls",
          "model_name": "HTMLModel",
          "model_module_version": "1.5.0",
          "state": {
            "_view_name": "HTMLView",
            "style": "IPY_MODEL_e639872d88e54c0aa2781883c1a591d4",
            "_dom_classes": [],
            "description": "",
            "_model_name": "HTMLModel",
            "placeholder": "​",
            "_view_module": "@jupyter-widgets/controls",
            "_model_module_version": "1.5.0",
            "value": "Shuffling cifar10-train.tfrecord...:  99%",
            "_view_count": null,
            "_view_module_version": "1.5.0",
            "description_tooltip": null,
            "_model_module": "@jupyter-widgets/controls",
            "layout": "IPY_MODEL_9855cb2d1eff486bbd8d580a931c8aca"
          }
        },
        "e4dd9c95336a4ce6bfe7a8905fe0e145": {
          "model_module": "@jupyter-widgets/controls",
          "model_name": "FloatProgressModel",
          "model_module_version": "1.5.0",
          "state": {
            "_view_name": "ProgressView",
            "style": "IPY_MODEL_1a4e8f35298c467ebd780b1952622a98",
            "_dom_classes": [],
            "description": "",
            "_model_name": "FloatProgressModel",
            "bar_style": "",
            "max": 50000,
            "_view_module": "@jupyter-widgets/controls",
            "_model_module_version": "1.5.0",
            "value": 50000,
            "_view_count": null,
            "_view_module_version": "1.5.0",
            "orientation": "horizontal",
            "min": 0,
            "description_tooltip": null,
            "_model_module": "@jupyter-widgets/controls",
            "layout": "IPY_MODEL_be8029ade68342398847a73b545832e2"
          }
        },
        "62ee9b09de454572a44b8fa8a4d6840c": {
          "model_module": "@jupyter-widgets/controls",
          "model_name": "HTMLModel",
          "model_module_version": "1.5.0",
          "state": {
            "_view_name": "HTMLView",
            "style": "IPY_MODEL_427bcd514a72447ab0e820119f6033f8",
            "_dom_classes": [],
            "description": "",
            "_model_name": "HTMLModel",
            "placeholder": "​",
            "_view_module": "@jupyter-widgets/controls",
            "_model_module_version": "1.5.0",
            "value": " 49644/50000 [00:02&lt;00:00, 21791.95 examples/s]",
            "_view_count": null,
            "_view_module_version": "1.5.0",
            "description_tooltip": null,
            "_model_module": "@jupyter-widgets/controls",
            "layout": "IPY_MODEL_b33a109cfc2b43a595ae9c04a217f525"
          }
        },
        "e639872d88e54c0aa2781883c1a591d4": {
          "model_module": "@jupyter-widgets/controls",
          "model_name": "DescriptionStyleModel",
          "model_module_version": "1.5.0",
          "state": {
            "_view_name": "StyleView",
            "_model_name": "DescriptionStyleModel",
            "description_width": "",
            "_view_module": "@jupyter-widgets/base",
            "_model_module_version": "1.5.0",
            "_view_count": null,
            "_view_module_version": "1.2.0",
            "_model_module": "@jupyter-widgets/controls"
          }
        },
        "9855cb2d1eff486bbd8d580a931c8aca": {
          "model_module": "@jupyter-widgets/base",
          "model_name": "LayoutModel",
          "model_module_version": "1.2.0",
          "state": {
            "_view_name": "LayoutView",
            "grid_template_rows": null,
            "right": null,
            "justify_content": null,
            "_view_module": "@jupyter-widgets/base",
            "overflow": null,
            "_model_module_version": "1.2.0",
            "_view_count": null,
            "flex_flow": null,
            "width": null,
            "min_width": null,
            "border": null,
            "align_items": null,
            "bottom": null,
            "_model_module": "@jupyter-widgets/base",
            "top": null,
            "grid_column": null,
            "overflow_y": null,
            "overflow_x": null,
            "grid_auto_flow": null,
            "grid_area": null,
            "grid_template_columns": null,
            "flex": null,
            "_model_name": "LayoutModel",
            "justify_items": null,
            "grid_row": null,
            "max_height": null,
            "align_content": null,
            "visibility": null,
            "align_self": null,
            "height": null,
            "min_height": null,
            "padding": null,
            "grid_auto_rows": null,
            "grid_gap": null,
            "max_width": null,
            "order": null,
            "_view_module_version": "1.2.0",
            "grid_template_areas": null,
            "object_position": null,
            "object_fit": null,
            "grid_auto_columns": null,
            "margin": null,
            "display": null,
            "left": null
          }
        },
        "1a4e8f35298c467ebd780b1952622a98": {
          "model_module": "@jupyter-widgets/controls",
          "model_name": "ProgressStyleModel",
          "model_module_version": "1.5.0",
          "state": {
            "_view_name": "StyleView",
            "_model_name": "ProgressStyleModel",
            "description_width": "",
            "_view_module": "@jupyter-widgets/base",
            "_model_module_version": "1.5.0",
            "_view_count": null,
            "_view_module_version": "1.2.0",
            "bar_color": null,
            "_model_module": "@jupyter-widgets/controls"
          }
        },
        "be8029ade68342398847a73b545832e2": {
          "model_module": "@jupyter-widgets/base",
          "model_name": "LayoutModel",
          "model_module_version": "1.2.0",
          "state": {
            "_view_name": "LayoutView",
            "grid_template_rows": null,
            "right": null,
            "justify_content": null,
            "_view_module": "@jupyter-widgets/base",
            "overflow": null,
            "_model_module_version": "1.2.0",
            "_view_count": null,
            "flex_flow": null,
            "width": null,
            "min_width": null,
            "border": null,
            "align_items": null,
            "bottom": null,
            "_model_module": "@jupyter-widgets/base",
            "top": null,
            "grid_column": null,
            "overflow_y": null,
            "overflow_x": null,
            "grid_auto_flow": null,
            "grid_area": null,
            "grid_template_columns": null,
            "flex": null,
            "_model_name": "LayoutModel",
            "justify_items": null,
            "grid_row": null,
            "max_height": null,
            "align_content": null,
            "visibility": null,
            "align_self": null,
            "height": null,
            "min_height": null,
            "padding": null,
            "grid_auto_rows": null,
            "grid_gap": null,
            "max_width": null,
            "order": null,
            "_view_module_version": "1.2.0",
            "grid_template_areas": null,
            "object_position": null,
            "object_fit": null,
            "grid_auto_columns": null,
            "margin": null,
            "display": null,
            "left": null
          }
        },
        "427bcd514a72447ab0e820119f6033f8": {
          "model_module": "@jupyter-widgets/controls",
          "model_name": "DescriptionStyleModel",
          "model_module_version": "1.5.0",
          "state": {
            "_view_name": "StyleView",
            "_model_name": "DescriptionStyleModel",
            "description_width": "",
            "_view_module": "@jupyter-widgets/base",
            "_model_module_version": "1.5.0",
            "_view_count": null,
            "_view_module_version": "1.2.0",
            "_model_module": "@jupyter-widgets/controls"
          }
        },
        "b33a109cfc2b43a595ae9c04a217f525": {
          "model_module": "@jupyter-widgets/base",
          "model_name": "LayoutModel",
          "model_module_version": "1.2.0",
          "state": {
            "_view_name": "LayoutView",
            "grid_template_rows": null,
            "right": null,
            "justify_content": null,
            "_view_module": "@jupyter-widgets/base",
            "overflow": null,
            "_model_module_version": "1.2.0",
            "_view_count": null,
            "flex_flow": null,
            "width": null,
            "min_width": null,
            "border": null,
            "align_items": null,
            "bottom": null,
            "_model_module": "@jupyter-widgets/base",
            "top": null,
            "grid_column": null,
            "overflow_y": null,
            "overflow_x": null,
            "grid_auto_flow": null,
            "grid_area": null,
            "grid_template_columns": null,
            "flex": null,
            "_model_name": "LayoutModel",
            "justify_items": null,
            "grid_row": null,
            "max_height": null,
            "align_content": null,
            "visibility": null,
            "align_self": null,
            "height": null,
            "min_height": null,
            "padding": null,
            "grid_auto_rows": null,
            "grid_gap": null,
            "max_width": null,
            "order": null,
            "_view_module_version": "1.2.0",
            "grid_template_areas": null,
            "object_position": null,
            "object_fit": null,
            "grid_auto_columns": null,
            "margin": null,
            "display": null,
            "left": null
          }
        },
        "2c89209d7e854b51820cf94d78347e2e": {
          "model_module": "@jupyter-widgets/controls",
          "model_name": "HBoxModel",
          "model_module_version": "1.5.0",
          "state": {
            "_view_name": "HBoxView",
            "_dom_classes": [],
            "_model_name": "HBoxModel",
            "_view_module": "@jupyter-widgets/controls",
            "_model_module_version": "1.5.0",
            "_view_count": null,
            "_view_module_version": "1.5.0",
            "box_style": "",
            "layout": "IPY_MODEL_9aa8eca4626e4f70ad42b2acfdeadb15",
            "_model_module": "@jupyter-widgets/controls",
            "children": [
              "IPY_MODEL_8c0b36323a3d429a86bb5af6a35fd015",
              "IPY_MODEL_f4c53a9b0e524c85b7b5473b801956f5",
              "IPY_MODEL_e26b4e71659c4743bb7ec4da295a829b"
            ]
          }
        },
        "9aa8eca4626e4f70ad42b2acfdeadb15": {
          "model_module": "@jupyter-widgets/base",
          "model_name": "LayoutModel",
          "model_module_version": "1.2.0",
          "state": {
            "_view_name": "LayoutView",
            "grid_template_rows": null,
            "right": null,
            "justify_content": null,
            "_view_module": "@jupyter-widgets/base",
            "overflow": null,
            "_model_module_version": "1.2.0",
            "_view_count": null,
            "flex_flow": null,
            "width": null,
            "min_width": null,
            "border": null,
            "align_items": null,
            "bottom": null,
            "_model_module": "@jupyter-widgets/base",
            "top": null,
            "grid_column": null,
            "overflow_y": null,
            "overflow_x": null,
            "grid_auto_flow": null,
            "grid_area": null,
            "grid_template_columns": null,
            "flex": null,
            "_model_name": "LayoutModel",
            "justify_items": null,
            "grid_row": null,
            "max_height": null,
            "align_content": null,
            "visibility": null,
            "align_self": null,
            "height": null,
            "min_height": null,
            "padding": null,
            "grid_auto_rows": null,
            "grid_gap": null,
            "max_width": null,
            "order": null,
            "_view_module_version": "1.2.0",
            "grid_template_areas": null,
            "object_position": null,
            "object_fit": null,
            "grid_auto_columns": null,
            "margin": null,
            "display": null,
            "left": null
          }
        },
        "8c0b36323a3d429a86bb5af6a35fd015": {
          "model_module": "@jupyter-widgets/controls",
          "model_name": "HTMLModel",
          "model_module_version": "1.5.0",
          "state": {
            "_view_name": "HTMLView",
            "style": "IPY_MODEL_5ab6b84bd1d54032b71396cd5df87877",
            "_dom_classes": [],
            "description": "",
            "_model_name": "HTMLModel",
            "placeholder": "​",
            "_view_module": "@jupyter-widgets/controls",
            "_model_module_version": "1.5.0",
            "value": "Generating test examples...: 100%",
            "_view_count": null,
            "_view_module_version": "1.5.0",
            "description_tooltip": null,
            "_model_module": "@jupyter-widgets/controls",
            "layout": "IPY_MODEL_c00c010b82af4accadd63d996b44c783"
          }
        },
        "f4c53a9b0e524c85b7b5473b801956f5": {
          "model_module": "@jupyter-widgets/controls",
          "model_name": "FloatProgressModel",
          "model_module_version": "1.5.0",
          "state": {
            "_view_name": "ProgressView",
            "style": "IPY_MODEL_e82fff965ae64dcb89a93bb5f9cb1651",
            "_dom_classes": [],
            "description": "",
            "_model_name": "FloatProgressModel",
            "bar_style": "",
            "max": 10000,
            "_view_module": "@jupyter-widgets/controls",
            "_model_module_version": "1.5.0",
            "value": 10000,
            "_view_count": null,
            "_view_module_version": "1.5.0",
            "orientation": "horizontal",
            "min": 0,
            "description_tooltip": null,
            "_model_module": "@jupyter-widgets/controls",
            "layout": "IPY_MODEL_7b27646446634c17a5e1a93f7a6c7abd"
          }
        },
        "e26b4e71659c4743bb7ec4da295a829b": {
          "model_module": "@jupyter-widgets/controls",
          "model_name": "HTMLModel",
          "model_module_version": "1.5.0",
          "state": {
            "_view_name": "HTMLView",
            "style": "IPY_MODEL_1fea7ea643684d63b0049eb10176341c",
            "_dom_classes": [],
            "description": "",
            "_model_name": "HTMLModel",
            "placeholder": "​",
            "_view_module": "@jupyter-widgets/controls",
            "_model_module_version": "1.5.0",
            "value": " 9962/10000 [00:13&lt;00:00, 782.20 examples/s]",
            "_view_count": null,
            "_view_module_version": "1.5.0",
            "description_tooltip": null,
            "_model_module": "@jupyter-widgets/controls",
            "layout": "IPY_MODEL_5a7708853f6e4ac8a74fb7bf6f1102fa"
          }
        },
        "5ab6b84bd1d54032b71396cd5df87877": {
          "model_module": "@jupyter-widgets/controls",
          "model_name": "DescriptionStyleModel",
          "model_module_version": "1.5.0",
          "state": {
            "_view_name": "StyleView",
            "_model_name": "DescriptionStyleModel",
            "description_width": "",
            "_view_module": "@jupyter-widgets/base",
            "_model_module_version": "1.5.0",
            "_view_count": null,
            "_view_module_version": "1.2.0",
            "_model_module": "@jupyter-widgets/controls"
          }
        },
        "c00c010b82af4accadd63d996b44c783": {
          "model_module": "@jupyter-widgets/base",
          "model_name": "LayoutModel",
          "model_module_version": "1.2.0",
          "state": {
            "_view_name": "LayoutView",
            "grid_template_rows": null,
            "right": null,
            "justify_content": null,
            "_view_module": "@jupyter-widgets/base",
            "overflow": null,
            "_model_module_version": "1.2.0",
            "_view_count": null,
            "flex_flow": null,
            "width": null,
            "min_width": null,
            "border": null,
            "align_items": null,
            "bottom": null,
            "_model_module": "@jupyter-widgets/base",
            "top": null,
            "grid_column": null,
            "overflow_y": null,
            "overflow_x": null,
            "grid_auto_flow": null,
            "grid_area": null,
            "grid_template_columns": null,
            "flex": null,
            "_model_name": "LayoutModel",
            "justify_items": null,
            "grid_row": null,
            "max_height": null,
            "align_content": null,
            "visibility": null,
            "align_self": null,
            "height": null,
            "min_height": null,
            "padding": null,
            "grid_auto_rows": null,
            "grid_gap": null,
            "max_width": null,
            "order": null,
            "_view_module_version": "1.2.0",
            "grid_template_areas": null,
            "object_position": null,
            "object_fit": null,
            "grid_auto_columns": null,
            "margin": null,
            "display": null,
            "left": null
          }
        },
        "e82fff965ae64dcb89a93bb5f9cb1651": {
          "model_module": "@jupyter-widgets/controls",
          "model_name": "ProgressStyleModel",
          "model_module_version": "1.5.0",
          "state": {
            "_view_name": "StyleView",
            "_model_name": "ProgressStyleModel",
            "description_width": "",
            "_view_module": "@jupyter-widgets/base",
            "_model_module_version": "1.5.0",
            "_view_count": null,
            "_view_module_version": "1.2.0",
            "bar_color": null,
            "_model_module": "@jupyter-widgets/controls"
          }
        },
        "7b27646446634c17a5e1a93f7a6c7abd": {
          "model_module": "@jupyter-widgets/base",
          "model_name": "LayoutModel",
          "model_module_version": "1.2.0",
          "state": {
            "_view_name": "LayoutView",
            "grid_template_rows": null,
            "right": null,
            "justify_content": null,
            "_view_module": "@jupyter-widgets/base",
            "overflow": null,
            "_model_module_version": "1.2.0",
            "_view_count": null,
            "flex_flow": null,
            "width": null,
            "min_width": null,
            "border": null,
            "align_items": null,
            "bottom": null,
            "_model_module": "@jupyter-widgets/base",
            "top": null,
            "grid_column": null,
            "overflow_y": null,
            "overflow_x": null,
            "grid_auto_flow": null,
            "grid_area": null,
            "grid_template_columns": null,
            "flex": null,
            "_model_name": "LayoutModel",
            "justify_items": null,
            "grid_row": null,
            "max_height": null,
            "align_content": null,
            "visibility": null,
            "align_self": null,
            "height": null,
            "min_height": null,
            "padding": null,
            "grid_auto_rows": null,
            "grid_gap": null,
            "max_width": null,
            "order": null,
            "_view_module_version": "1.2.0",
            "grid_template_areas": null,
            "object_position": null,
            "object_fit": null,
            "grid_auto_columns": null,
            "margin": null,
            "display": null,
            "left": null
          }
        },
        "1fea7ea643684d63b0049eb10176341c": {
          "model_module": "@jupyter-widgets/controls",
          "model_name": "DescriptionStyleModel",
          "model_module_version": "1.5.0",
          "state": {
            "_view_name": "StyleView",
            "_model_name": "DescriptionStyleModel",
            "description_width": "",
            "_view_module": "@jupyter-widgets/base",
            "_model_module_version": "1.5.0",
            "_view_count": null,
            "_view_module_version": "1.2.0",
            "_model_module": "@jupyter-widgets/controls"
          }
        },
        "5a7708853f6e4ac8a74fb7bf6f1102fa": {
          "model_module": "@jupyter-widgets/base",
          "model_name": "LayoutModel",
          "model_module_version": "1.2.0",
          "state": {
            "_view_name": "LayoutView",
            "grid_template_rows": null,
            "right": null,
            "justify_content": null,
            "_view_module": "@jupyter-widgets/base",
            "overflow": null,
            "_model_module_version": "1.2.0",
            "_view_count": null,
            "flex_flow": null,
            "width": null,
            "min_width": null,
            "border": null,
            "align_items": null,
            "bottom": null,
            "_model_module": "@jupyter-widgets/base",
            "top": null,
            "grid_column": null,
            "overflow_y": null,
            "overflow_x": null,
            "grid_auto_flow": null,
            "grid_area": null,
            "grid_template_columns": null,
            "flex": null,
            "_model_name": "LayoutModel",
            "justify_items": null,
            "grid_row": null,
            "max_height": null,
            "align_content": null,
            "visibility": null,
            "align_self": null,
            "height": null,
            "min_height": null,
            "padding": null,
            "grid_auto_rows": null,
            "grid_gap": null,
            "max_width": null,
            "order": null,
            "_view_module_version": "1.2.0",
            "grid_template_areas": null,
            "object_position": null,
            "object_fit": null,
            "grid_auto_columns": null,
            "margin": null,
            "display": null,
            "left": null
          }
        },
        "7d255cbb230f43c5816252cf54ad9665": {
          "model_module": "@jupyter-widgets/controls",
          "model_name": "HBoxModel",
          "model_module_version": "1.5.0",
          "state": {
            "_view_name": "HBoxView",
            "_dom_classes": [],
            "_model_name": "HBoxModel",
            "_view_module": "@jupyter-widgets/controls",
            "_model_module_version": "1.5.0",
            "_view_count": null,
            "_view_module_version": "1.5.0",
            "box_style": "",
            "layout": "IPY_MODEL_d14a71cfcded45d5851ba9ed08f4fe6d",
            "_model_module": "@jupyter-widgets/controls",
            "children": [
              "IPY_MODEL_a58025d1e613492aad953461f983f193",
              "IPY_MODEL_131b178f3a3f4216a6677e946dbccc86",
              "IPY_MODEL_da6a84a15ea24675931456c0c64b20c4"
            ]
          }
        },
        "d14a71cfcded45d5851ba9ed08f4fe6d": {
          "model_module": "@jupyter-widgets/base",
          "model_name": "LayoutModel",
          "model_module_version": "1.2.0",
          "state": {
            "_view_name": "LayoutView",
            "grid_template_rows": null,
            "right": null,
            "justify_content": null,
            "_view_module": "@jupyter-widgets/base",
            "overflow": null,
            "_model_module_version": "1.2.0",
            "_view_count": null,
            "flex_flow": null,
            "width": null,
            "min_width": null,
            "border": null,
            "align_items": null,
            "bottom": null,
            "_model_module": "@jupyter-widgets/base",
            "top": null,
            "grid_column": null,
            "overflow_y": null,
            "overflow_x": null,
            "grid_auto_flow": null,
            "grid_area": null,
            "grid_template_columns": null,
            "flex": null,
            "_model_name": "LayoutModel",
            "justify_items": null,
            "grid_row": null,
            "max_height": null,
            "align_content": null,
            "visibility": null,
            "align_self": null,
            "height": null,
            "min_height": null,
            "padding": null,
            "grid_auto_rows": null,
            "grid_gap": null,
            "max_width": null,
            "order": null,
            "_view_module_version": "1.2.0",
            "grid_template_areas": null,
            "object_position": null,
            "object_fit": null,
            "grid_auto_columns": null,
            "margin": null,
            "display": null,
            "left": null
          }
        },
        "a58025d1e613492aad953461f983f193": {
          "model_module": "@jupyter-widgets/controls",
          "model_name": "HTMLModel",
          "model_module_version": "1.5.0",
          "state": {
            "_view_name": "HTMLView",
            "style": "IPY_MODEL_9ff679852cf7408e827cf7f176cb6ee2",
            "_dom_classes": [],
            "description": "",
            "_model_name": "HTMLModel",
            "placeholder": "​",
            "_view_module": "@jupyter-widgets/controls",
            "_model_module_version": "1.5.0",
            "value": "Shuffling cifar10-test.tfrecord...:  81%",
            "_view_count": null,
            "_view_module_version": "1.5.0",
            "description_tooltip": null,
            "_model_module": "@jupyter-widgets/controls",
            "layout": "IPY_MODEL_9e709536555744b49b77b384914e4561"
          }
        },
        "131b178f3a3f4216a6677e946dbccc86": {
          "model_module": "@jupyter-widgets/controls",
          "model_name": "FloatProgressModel",
          "model_module_version": "1.5.0",
          "state": {
            "_view_name": "ProgressView",
            "style": "IPY_MODEL_4868f6652ac948aabb7b9d961a4283ec",
            "_dom_classes": [],
            "description": "",
            "_model_name": "FloatProgressModel",
            "bar_style": "",
            "max": 10000,
            "_view_module": "@jupyter-widgets/controls",
            "_model_module_version": "1.5.0",
            "value": 10000,
            "_view_count": null,
            "_view_module_version": "1.5.0",
            "orientation": "horizontal",
            "min": 0,
            "description_tooltip": null,
            "_model_module": "@jupyter-widgets/controls",
            "layout": "IPY_MODEL_7c0670b856d946728eb7c7eab43989de"
          }
        },
        "da6a84a15ea24675931456c0c64b20c4": {
          "model_module": "@jupyter-widgets/controls",
          "model_name": "HTMLModel",
          "model_module_version": "1.5.0",
          "state": {
            "_view_name": "HTMLView",
            "style": "IPY_MODEL_ce57a2dc1b02428eb5bb662278c42d4c",
            "_dom_classes": [],
            "description": "",
            "_model_name": "HTMLModel",
            "placeholder": "​",
            "_view_module": "@jupyter-widgets/controls",
            "_model_module_version": "1.5.0",
            "value": " 8141/10000 [00:00&lt;00:00, 21869.02 examples/s]",
            "_view_count": null,
            "_view_module_version": "1.5.0",
            "description_tooltip": null,
            "_model_module": "@jupyter-widgets/controls",
            "layout": "IPY_MODEL_28e27018c26d496a8b147e47dadf8bc5"
          }
        },
        "9ff679852cf7408e827cf7f176cb6ee2": {
          "model_module": "@jupyter-widgets/controls",
          "model_name": "DescriptionStyleModel",
          "model_module_version": "1.5.0",
          "state": {
            "_view_name": "StyleView",
            "_model_name": "DescriptionStyleModel",
            "description_width": "",
            "_view_module": "@jupyter-widgets/base",
            "_model_module_version": "1.5.0",
            "_view_count": null,
            "_view_module_version": "1.2.0",
            "_model_module": "@jupyter-widgets/controls"
          }
        },
        "9e709536555744b49b77b384914e4561": {
          "model_module": "@jupyter-widgets/base",
          "model_name": "LayoutModel",
          "model_module_version": "1.2.0",
          "state": {
            "_view_name": "LayoutView",
            "grid_template_rows": null,
            "right": null,
            "justify_content": null,
            "_view_module": "@jupyter-widgets/base",
            "overflow": null,
            "_model_module_version": "1.2.0",
            "_view_count": null,
            "flex_flow": null,
            "width": null,
            "min_width": null,
            "border": null,
            "align_items": null,
            "bottom": null,
            "_model_module": "@jupyter-widgets/base",
            "top": null,
            "grid_column": null,
            "overflow_y": null,
            "overflow_x": null,
            "grid_auto_flow": null,
            "grid_area": null,
            "grid_template_columns": null,
            "flex": null,
            "_model_name": "LayoutModel",
            "justify_items": null,
            "grid_row": null,
            "max_height": null,
            "align_content": null,
            "visibility": null,
            "align_self": null,
            "height": null,
            "min_height": null,
            "padding": null,
            "grid_auto_rows": null,
            "grid_gap": null,
            "max_width": null,
            "order": null,
            "_view_module_version": "1.2.0",
            "grid_template_areas": null,
            "object_position": null,
            "object_fit": null,
            "grid_auto_columns": null,
            "margin": null,
            "display": null,
            "left": null
          }
        },
        "4868f6652ac948aabb7b9d961a4283ec": {
          "model_module": "@jupyter-widgets/controls",
          "model_name": "ProgressStyleModel",
          "model_module_version": "1.5.0",
          "state": {
            "_view_name": "StyleView",
            "_model_name": "ProgressStyleModel",
            "description_width": "",
            "_view_module": "@jupyter-widgets/base",
            "_model_module_version": "1.5.0",
            "_view_count": null,
            "_view_module_version": "1.2.0",
            "bar_color": null,
            "_model_module": "@jupyter-widgets/controls"
          }
        },
        "7c0670b856d946728eb7c7eab43989de": {
          "model_module": "@jupyter-widgets/base",
          "model_name": "LayoutModel",
          "model_module_version": "1.2.0",
          "state": {
            "_view_name": "LayoutView",
            "grid_template_rows": null,
            "right": null,
            "justify_content": null,
            "_view_module": "@jupyter-widgets/base",
            "overflow": null,
            "_model_module_version": "1.2.0",
            "_view_count": null,
            "flex_flow": null,
            "width": null,
            "min_width": null,
            "border": null,
            "align_items": null,
            "bottom": null,
            "_model_module": "@jupyter-widgets/base",
            "top": null,
            "grid_column": null,
            "overflow_y": null,
            "overflow_x": null,
            "grid_auto_flow": null,
            "grid_area": null,
            "grid_template_columns": null,
            "flex": null,
            "_model_name": "LayoutModel",
            "justify_items": null,
            "grid_row": null,
            "max_height": null,
            "align_content": null,
            "visibility": null,
            "align_self": null,
            "height": null,
            "min_height": null,
            "padding": null,
            "grid_auto_rows": null,
            "grid_gap": null,
            "max_width": null,
            "order": null,
            "_view_module_version": "1.2.0",
            "grid_template_areas": null,
            "object_position": null,
            "object_fit": null,
            "grid_auto_columns": null,
            "margin": null,
            "display": null,
            "left": null
          }
        },
        "ce57a2dc1b02428eb5bb662278c42d4c": {
          "model_module": "@jupyter-widgets/controls",
          "model_name": "DescriptionStyleModel",
          "model_module_version": "1.5.0",
          "state": {
            "_view_name": "StyleView",
            "_model_name": "DescriptionStyleModel",
            "description_width": "",
            "_view_module": "@jupyter-widgets/base",
            "_model_module_version": "1.5.0",
            "_view_count": null,
            "_view_module_version": "1.2.0",
            "_model_module": "@jupyter-widgets/controls"
          }
        },
        "28e27018c26d496a8b147e47dadf8bc5": {
          "model_module": "@jupyter-widgets/base",
          "model_name": "LayoutModel",
          "model_module_version": "1.2.0",
          "state": {
            "_view_name": "LayoutView",
            "grid_template_rows": null,
            "right": null,
            "justify_content": null,
            "_view_module": "@jupyter-widgets/base",
            "overflow": null,
            "_model_module_version": "1.2.0",
            "_view_count": null,
            "flex_flow": null,
            "width": null,
            "min_width": null,
            "border": null,
            "align_items": null,
            "bottom": null,
            "_model_module": "@jupyter-widgets/base",
            "top": null,
            "grid_column": null,
            "overflow_y": null,
            "overflow_x": null,
            "grid_auto_flow": null,
            "grid_area": null,
            "grid_template_columns": null,
            "flex": null,
            "_model_name": "LayoutModel",
            "justify_items": null,
            "grid_row": null,
            "max_height": null,
            "align_content": null,
            "visibility": null,
            "align_self": null,
            "height": null,
            "min_height": null,
            "padding": null,
            "grid_auto_rows": null,
            "grid_gap": null,
            "max_width": null,
            "order": null,
            "_view_module_version": "1.2.0",
            "grid_template_areas": null,
            "object_position": null,
            "object_fit": null,
            "grid_auto_columns": null,
            "margin": null,
            "display": null,
            "left": null
          }
        }
      }
    }
  },
  "cells": [
    {
      "cell_type": "code",
      "metadata": {
        "id": "Mx7oLMdRm8yM",
        "colab": {
          "base_uri": "https://localhost:8080/"
        },
        "outputId": "d019268b-9d6c-48fd-9b90-ea9c90a3f57b"
      },
      "source": [
        "from google.colab import drive\n",
        "# This will prompt for authorization.\n",
        "drive.mount('/content/drive')"
      ],
      "execution_count": null,
      "outputs": [
        {
          "output_type": "stream",
          "name": "stdout",
          "text": [
            "Mounted at /content/drive\n"
          ]
        }
      ]
    },
    {
      "cell_type": "code",
      "metadata": {
        "id": "UKNZvMjfzvUz"
      },
      "source": [
        "import numpy as np \n",
        "import matplotlib.pyplot as plt"
      ],
      "execution_count": null,
      "outputs": []
    },
    {
      "cell_type": "code",
      "source": [
        "import numpy as np \n",
        "import matplotlib.pyplot as plt\n",
        "\n",
        "initial_pruning = 0.0\n",
        "final_pruning = 0.8\n",
        "begin_step = 1000\n",
        "end_step = 20000\n",
        "frequency = 500\n",
        "\n",
        "current_pruning_percentage = 0  \n",
        "pruning_iterations = (end_step - begin_step) / frequency\n",
        "polynomial_pruning_percentage = []\n",
        "for step in range(begin_step, end_step +1 , frequency): \n",
        "  current_pruning_percentage = final_pruning + (initial_pruning - final_pruning) * pow(1 - ((step - begin_step) / (end_step - begin_step)), 3)\n",
        "  polynomial_pruning_percentage.append(current_pruning_percentage)\n",
        "\n",
        "print(\"Polynomial pruning percentage: \", polynomial_pruning_percentage)\n",
        "print(\"Polynomial pruning percentage len: \", len(polynomial_pruning_percentage))\n",
        "\n",
        "# obtain the gamma parameters to pass in the Pytorch pruning method \n",
        "gamma_parameters = []\n",
        "\n",
        "first = False \n",
        "\n",
        "for pruning_percentage in polynomial_pruning_percentage: \n",
        "  if first==True: \n",
        "    denominator = 1  \n",
        "    for gamma in gamma_parameters:\n",
        "      denominator *= (1 - gamma)\n",
        "    gamma_parameters.append(1 - ((1 - pruning_percentage) / denominator))  \n",
        "  else: \n",
        "    gamma_parameters.append(pruning_percentage)\n",
        "    if pruning_percentage != 0.0: \n",
        "      first = True\n",
        "print(\"Gamma parameters: \",gamma_parameters)  \n",
        "print(\"Gamma parameters len: \", len(gamma_parameters))\n",
        "\n",
        "iterations = np.arange(0, len(polynomial_pruning_percentage), 1)\n",
        "\n",
        "plt.clf()\n",
        "plt.plot(iterations, polynomial_pruning_percentage, 'b-')\n",
        "plt.grid(True)\n",
        "plt.legend([\"Pruning percentage\", \"Loss validation\"], loc=\"lower right\")\n",
        "plt.title(\"Gradual pruning curve trend\")\n",
        "plt.xlabel('Pruning epochs')\n",
        "plt.ylabel('Pruning percentage')\n",
        "plt.figure()\n",
        "plt.show()\n"
      ],
      "metadata": {
        "colab": {
          "base_uri": "https://localhost:8080/",
          "height": 402
        },
        "id": "qcEsUAoYqWSN",
        "outputId": "7b5022c5-4b45-49ba-c8cb-7feb7a476cd4"
      },
      "execution_count": null,
      "outputs": [
        {
          "output_type": "stream",
          "name": "stdout",
          "text": [
            "Polynomial pruning percentage:  [0.0, 0.06151042426009612, 0.11978422510570041, 0.1749088788453128, 0.22697186178743256, 0.2760606502405598, 0.3222627205131945, 0.3656655489138359, 0.4063566117509841, 0.4444233853331389, 0.47995334596880007, 0.5130339699664674, 0.5437527336346406, 0.5721971132818195, 0.598454585216504, 0.6226126257471936, 0.6447587111823881, 0.6649803178305876, 0.6833649220002915, 0.7000000000000001, 0.7149730281382126, 0.7283714827234291, 0.7402828400641494, 0.750794576468873, 0.7599941682461, 0.7679690917043301, 0.7748068231520631, 0.7805948388977986, 0.7854206152500365, 0.7893716285172766, 0.7925353550080187, 0.7949992710307625, 0.7968508528940079, 0.7981775769062546, 0.7990669193760024, 0.7996063566117511, 0.7998833649220003, 0.7999854206152501, 0.8]\n",
            "Polynomial pruning percentage len:  39\n",
            "Gamma parameters:  [0.0, 0.06151042426009612, 0.062093178605272525, 0.06262629608772008, 0.0630996766384534, 0.0635019425898683, 0.06382036048736306, 0.06404078647334666, 0.0641476476131374, 0.0641239746549439, 0.06395150497283963, 0.06361087748808525, 0.06308194365438158, 0.06234421933917056, 0.061377500596394574, 0.06016266066371356, 0.05868263473053881, 0.05692358204054848, 0.05487619130510424, 0.05253706602817976, 0.049910093794041877, 0.04700767263427108, 0.04385164510761641, 0.040473784663747514, 0.03691569648394066, 0.03322804033531801, 0.02946905435124103, 0.025702447235530168, 0.021994816931357408, 0.018412827829868195, 0.015020419464248924, 0.011876317638790934, 0.00903207453239474, 0.006530788000573939, 0.004406559271834309, 0.002684661152227652, 0.0013823208439428525, 0.0005099810578468311, 7.289161017542956e-05]\n",
            "Gamma parameters len:  39\n"
          ]
        },
        {
          "output_type": "display_data",
          "data": {
            "image/png": "[encoded data removed]",
            "text/plain": [
              "<Figure size 432x288 with 1 Axes>"
            ]
          },
          "metadata": {
            "needs_background": "light"
          }
        },
        {
          "output_type": "display_data",
          "data": {
            "text/plain": [
              "<Figure size 432x288 with 0 Axes>"
            ]
          },
          "metadata": {}
        }
      ]
    },
    {
      "cell_type": "code",
      "metadata": {
        "colab": {
          "base_uri": "https://localhost:8080/"
        },
        "id": "x59Jg9a_txRg",
        "outputId": "f7c018a7-8764-4713-f530-ceaeb2a10879"
      },
      "source": [
        "initial_pruning = 0.0\n",
        "final_pruning = 0.8\n",
        "begin_step = 20\n",
        "end_step = 100\n",
        "frequency = 1\n",
        "\n",
        "current_pruning_percentage = 0  \n",
        "pruning_iterations = (end_step - begin_step) / frequency\n",
        "polynomial_pruning_percentage = []\n",
        "for step in range(begin_step, end_step +1 , frequency): \n",
        "  current_pruning_percentage = final_pruning + (initial_pruning - final_pruning) * pow(1 - ((step - begin_step) / (end_step - begin_step)), 3)\n",
        "  polynomial_pruning_percentage.append(current_pruning_percentage)\n",
        "\n",
        "print(polynomial_pruning_percentage)"
      ],
      "execution_count": null,
      "outputs": [
        {
          "output_type": "stream",
          "name": "stdout",
          "text": [
            "[0.0, 0.029626562499999953, 0.05851250000000008, 0.08666718750000002, 0.11410000000000009, 0.14082031250000004, 0.16683749999999997, 0.19216093749999996, 0.2168, 0.24076406250000015, 0.2640625, 0.2867046874999999, 0.3087000000000001, 0.3300578125, 0.35078750000000003, 0.3708984375, 0.3903999999999999, 0.40930156250000005, 0.42761249999999995, 0.4453421875000001, 0.4625, 0.4790953124999999, 0.4951375, 0.5106359375, 0.5256000000000001, 0.5400390625, 0.5539625, 0.5673796875000001, 0.5803, 0.5927328125000001, 0.6046875, 0.6161734375, 0.6272000000000001, 0.6377765625, 0.6479125000000001, 0.6576171875000001, 0.6669, 0.6757703125000001, 0.6842375, 0.6923109375000001, 0.7000000000000001, 0.7073140625000001, 0.7142625, 0.7208546875, 0.7271000000000001, 0.7330078125, 0.7385875000000001, 0.7438484375000001, 0.7488, 0.7534515625, 0.7578125, 0.7618921875, 0.7657, 0.7692453125000001, 0.7725375000000001, 0.7755859375, 0.7784, 0.7809890625, 0.7833625000000001, 0.7855296875000001, 0.7875000000000001, 0.7892828125, 0.7908875000000001, 0.7923234375, 0.7936000000000001, 0.7947265625000001, 0.7957125, 0.7965671875, 0.7973, 0.7979203125000001, 0.7984375, 0.7988609375000001, 0.7992, 0.7994640625, 0.7996625, 0.7998046875, 0.7999, 0.7999578125000001, 0.7999875000000001, 0.7999984375, 0.8]\n"
          ]
        }
      ]
    },
    {
      "cell_type": "code",
      "metadata": {
        "colab": {
          "base_uri": "https://localhost:8080/"
        },
        "id": "0GhqY4m40l_i",
        "outputId": "64d71c56-9de5-451a-b14e-232cc68461cf"
      },
      "source": [
        "\n",
        "# obtain the gamma parameters to pass in the Pytorch pruning method \n",
        "gamma_parameters = []\n",
        "\n",
        "first = False \n",
        "\n",
        "for pruning_percentage in polynomial_pruning_percentage: \n",
        "  if first==True: \n",
        "    denominator = 1  \n",
        "    for gamma in gamma_parameters:\n",
        "      denominator *= (1 - gamma)\n",
        "    gamma_parameters.append(1 - ((1 - pruning_percentage) / denominator))  \n",
        "  else: \n",
        "    gamma_parameters.append(pruning_percentage)\n",
        "    if pruning_percentage != 0.0: \n",
        "      first = True\n",
        "print(gamma_parameters)  "
      ],
      "execution_count": null,
      "outputs": [
        {
          "output_type": "stream",
          "name": "stdout",
          "text": [
            "[0.0, 0.029626562499999953, 0.029767856769059686, 0.029904472974946472, 0.030035943223051587, 0.030161770515859554, 0.03028142759718111, 0.030394355842947807, 0.030499964217811093, 0.030597628319714243, 0.03068668953779574, 0.03076645435244152, 0.030836193809979928, 0.030895143208447773, 0.03094250203492377, 0.030977434199125797, 0.030999068612232117, 0.031006500164042272, 0.030998791155596894, 0.030974973248018456, 0.030934049991407808, 0.030874999999999875, 0.030796780841024884, 0.030698333704721636, 0.03057858892120846, 0.030436472386171864, 0.030270912951167794, 0.03008085082532319, 0.02986524702304616, 0.029623093876578688, 0.029353426612596767, 0.02905533596837928, 0.028727981795163338, 0.02837060756437748, 0.027982555656686614, 0.027563283274754102, 0.027112378779235446, 0.02662957820474343, 0.026114781670015907, 0.02556806935592415, 0.024989716688418206, 0.02438020833333332, 0.02374025058856799, 0.023070781748982916, 0.022372980022725808, 0.02164826859655533, 0.020898317483540763, 0.020125041840003854, 0.019330596509634645, 0.018517366640127375, 0.01768795431932113, 0.01684516129032254, 0.015991967924194217, 0.01513150874946656, 0.014267044954395791, 0.013401934384788428, 0.012539599651870903, 0.01168349503610111, 0.010837072920159896, 0.010003750504875675, 0.009186877554440143, 0.008389705882352438, 0.007615361229136086, 0.006866818100304539, 0.006146878032999403, 0.005458151647286691, 0.0048030447193148085, 0.004183748393807529, 0.0036022335384072734, 0.0030602491366553686, 0.002559324523895845, 0.0021007751937988095, 0.0016857118442615837, 0.0013150522908366158, 0.0009895358531437637, 0.0007097398140635258, 0.0004760975609758855, 0.00028891804097963547, 0.00014840619556810708, 5.468408224440502e-05, 7.812438965526525e-06]\n"
          ]
        }
      ]
    },
    {
      "cell_type": "code",
      "metadata": {
        "colab": {
          "base_uri": "https://localhost:8080/",
          "height": 296
        },
        "id": "N1Z0x2gBzcVv",
        "outputId": "2ecff9ef-b04f-41bf-d7a2-6affe5291e28"
      },
      "source": [
        "iterations = np.arange(0, len(polynomial_pruning_percentage), 1)\n",
        "\n",
        "plt.clf()\n",
        "plt.plot(iterations, polynomial_pruning_percentage, 'b-')\n",
        "plt.grid(True)\n",
        "plt.legend([\"Pruning percentage\", \"Loss validation\"], loc=\"lower right\")\n",
        "plt.xlabel('Pruning epochs')\n",
        "plt.ylabel('Pruning percentage')\n",
        "plt.figure()\n",
        "plt.show()"
      ],
      "execution_count": null,
      "outputs": [
        {
          "output_type": "display_data",
          "data": {
            "image/png": "[encoded data removed]",
            "text/plain": [
              "<Figure size 432x288 with 1 Axes>"
            ]
          },
          "metadata": {
            "needs_background": "light"
          }
        },
        {
          "output_type": "display_data",
          "data": {
            "text/plain": [
              "<Figure size 432x288 with 0 Axes>"
            ]
          },
          "metadata": {}
        }
      ]
    },
    {
      "cell_type": "code",
      "metadata": {
        "colab": {
          "base_uri": "https://localhost:8080/"
        },
        "id": "BdI7_gy09B1j",
        "outputId": "ef50d8cf-3f19-4a5b-c1b4-188d4371c176"
      },
      "source": [
        "final_pruning_percentage = 1.0\n",
        "\n",
        "for gamma in gamma_parameters:\n",
        "  final_pruning_percentage *= float(1.0 - gamma)\n",
        "\n",
        "print(1 - final_pruning_percentage)  "
      ],
      "execution_count": null,
      "outputs": [
        {
          "output_type": "stream",
          "name": "stdout",
          "text": [
            "0.8\n"
          ]
        }
      ]
    },
    {
      "cell_type": "code",
      "metadata": {
        "id": "dLYgBnEjpXiX"
      },
      "source": [
        " p = tf.math.minimum(\n",
        "          1.0,\n",
        "          tf.math.maximum(\n",
        "              0.0,\n",
        "              divide(\n",
        "                  tf.dtypes.cast(step - self.begin_step, tf.float32),\n",
        "                  self.end_step - self.begin_step)))\n",
        "sparsity = tf.math.add(\n",
        "          tf.math.multiply(self.initial_sparsity - self.final_sparsity,\n",
        "                           tf.math.pow(1 - p, self.power)),\n",
        "          self.final_sparsity,\n",
        "          name='sparsity')"
      ],
      "execution_count": null,
      "outputs": []
    },
    {
      "cell_type": "code",
      "metadata": {
        "colab": {
          "base_uri": "https://localhost:8080/"
        },
        "id": "kvR8hnUam924",
        "outputId": "c230fcfb-4a23-4f96-f3d1-11ce48e44109"
      },
      "source": [
        "!pip install tensorflow-datasets==4.4.0\n",
        "!pip install tensorflow-estimator\n",
        "!pip install tensorflow-io-gcs-filesystem\n",
        "!pip install tensorflow-metadata\n",
        "!pip install tensorflow-model-optimization==0.7.0  # to add model pruning \n",
        "!pip install seaborn\n",
        "!pip install tensorflow_addons # to add https://www.tensorflow.org/addons/api_docs/python/tfa/optimizers/SGDW "
      ],
      "execution_count": null,
      "outputs": [
        {
          "output_type": "stream",
          "name": "stdout",
          "text": [
            "Collecting tensorflow-datasets==4.4.0\n",
            "  Downloading tensorflow_datasets-4.4.0-py3-none-any.whl (4.0 MB)\n",
            "\u001b[K     |████████████████████████████████| 4.0 MB 5.4 MB/s \n",
            "\u001b[?25hRequirement already satisfied: future in /usr/local/lib/python3.7/dist-packages (from tensorflow-datasets==4.4.0) (0.16.0)\n",
            "Requirement already satisfied: protobuf>=3.12.2 in /usr/local/lib/python3.7/dist-packages (from tensorflow-datasets==4.4.0) (3.17.3)\n",
            "Requirement already satisfied: termcolor in /usr/local/lib/python3.7/dist-packages (from tensorflow-datasets==4.4.0) (1.1.0)\n",
            "Requirement already satisfied: numpy in /usr/local/lib/python3.7/dist-packages (from tensorflow-datasets==4.4.0) (1.19.5)\n",
            "Requirement already satisfied: requests>=2.19.0 in /usr/local/lib/python3.7/dist-packages (from tensorflow-datasets==4.4.0) (2.23.0)\n",
            "Requirement already satisfied: promise in /usr/local/lib/python3.7/dist-packages (from tensorflow-datasets==4.4.0) (2.3)\n",
            "Requirement already satisfied: dill in /usr/local/lib/python3.7/dist-packages (from tensorflow-datasets==4.4.0) (0.3.4)\n",
            "Requirement already satisfied: typing-extensions in /usr/local/lib/python3.7/dist-packages (from tensorflow-datasets==4.4.0) (3.10.0.2)\n",
            "Requirement already satisfied: absl-py in /usr/local/lib/python3.7/dist-packages (from tensorflow-datasets==4.4.0) (0.12.0)\n",
            "Requirement already satisfied: tqdm in /usr/local/lib/python3.7/dist-packages (from tensorflow-datasets==4.4.0) (4.62.3)\n",
            "Requirement already satisfied: tensorflow-metadata in /usr/local/lib/python3.7/dist-packages (from tensorflow-datasets==4.4.0) (1.4.0)\n",
            "Requirement already satisfied: importlib-resources in /usr/local/lib/python3.7/dist-packages (from tensorflow-datasets==4.4.0) (5.4.0)\n",
            "Requirement already satisfied: six in /usr/local/lib/python3.7/dist-packages (from tensorflow-datasets==4.4.0) (1.15.0)\n",
            "Requirement already satisfied: attrs>=18.1.0 in /usr/local/lib/python3.7/dist-packages (from tensorflow-datasets==4.4.0) (21.2.0)\n",
            "Requirement already satisfied: certifi>=2017.4.17 in /usr/local/lib/python3.7/dist-packages (from requests>=2.19.0->tensorflow-datasets==4.4.0) (2021.10.8)\n",
            "Requirement already satisfied: idna<3,>=2.5 in /usr/local/lib/python3.7/dist-packages (from requests>=2.19.0->tensorflow-datasets==4.4.0) (2.10)\n",
            "Requirement already satisfied: urllib3!=1.25.0,!=1.25.1,<1.26,>=1.21.1 in /usr/local/lib/python3.7/dist-packages (from requests>=2.19.0->tensorflow-datasets==4.4.0) (1.24.3)\n",
            "Requirement already satisfied: chardet<4,>=3.0.2 in /usr/local/lib/python3.7/dist-packages (from requests>=2.19.0->tensorflow-datasets==4.4.0) (3.0.4)\n",
            "Requirement already satisfied: zipp>=3.1.0 in /usr/local/lib/python3.7/dist-packages (from importlib-resources->tensorflow-datasets==4.4.0) (3.6.0)\n",
            "Requirement already satisfied: googleapis-common-protos<2,>=1.52.0 in /usr/local/lib/python3.7/dist-packages (from tensorflow-metadata->tensorflow-datasets==4.4.0) (1.53.0)\n",
            "Installing collected packages: tensorflow-datasets\n",
            "  Attempting uninstall: tensorflow-datasets\n",
            "    Found existing installation: tensorflow-datasets 4.0.1\n",
            "    Uninstalling tensorflow-datasets-4.0.1:\n",
            "      Successfully uninstalled tensorflow-datasets-4.0.1\n",
            "Successfully installed tensorflow-datasets-4.4.0\n",
            "Requirement already satisfied: tensorflow-estimator in /usr/local/lib/python3.7/dist-packages (2.7.0)\n",
            "Requirement already satisfied: tensorflow-io-gcs-filesystem in /usr/local/lib/python3.7/dist-packages (0.22.0)\n",
            "Requirement already satisfied: tensorflow-metadata in /usr/local/lib/python3.7/dist-packages (1.4.0)\n",
            "Requirement already satisfied: absl-py<0.13,>=0.9 in /usr/local/lib/python3.7/dist-packages (from tensorflow-metadata) (0.12.0)\n",
            "Requirement already satisfied: googleapis-common-protos<2,>=1.52.0 in /usr/local/lib/python3.7/dist-packages (from tensorflow-metadata) (1.53.0)\n",
            "Requirement already satisfied: protobuf<4,>=3.13 in /usr/local/lib/python3.7/dist-packages (from tensorflow-metadata) (3.17.3)\n",
            "Requirement already satisfied: six in /usr/local/lib/python3.7/dist-packages (from absl-py<0.13,>=0.9->tensorflow-metadata) (1.15.0)\n",
            "Collecting tensorflow-model-optimization==0.7.0\n",
            "  Downloading tensorflow_model_optimization-0.7.0-py2.py3-none-any.whl (213 kB)\n",
            "\u001b[K     |████████████████████████████████| 213 kB 5.2 MB/s \n",
            "\u001b[?25hRequirement already satisfied: six~=1.10 in /usr/local/lib/python3.7/dist-packages (from tensorflow-model-optimization==0.7.0) (1.15.0)\n",
            "Requirement already satisfied: dm-tree~=0.1.1 in /usr/local/lib/python3.7/dist-packages (from tensorflow-model-optimization==0.7.0) (0.1.6)\n",
            "Requirement already satisfied: numpy~=1.14 in /usr/local/lib/python3.7/dist-packages (from tensorflow-model-optimization==0.7.0) (1.19.5)\n",
            "Installing collected packages: tensorflow-model-optimization\n",
            "Successfully installed tensorflow-model-optimization-0.7.0\n",
            "Requirement already satisfied: seaborn in /usr/local/lib/python3.7/dist-packages (0.11.2)\n",
            "Requirement already satisfied: numpy>=1.15 in /usr/local/lib/python3.7/dist-packages (from seaborn) (1.19.5)\n",
            "Requirement already satisfied: scipy>=1.0 in /usr/local/lib/python3.7/dist-packages (from seaborn) (1.4.1)\n",
            "Requirement already satisfied: matplotlib>=2.2 in /usr/local/lib/python3.7/dist-packages (from seaborn) (3.2.2)\n",
            "Requirement already satisfied: pandas>=0.23 in /usr/local/lib/python3.7/dist-packages (from seaborn) (1.1.5)\n",
            "Requirement already satisfied: pyparsing!=2.0.4,!=2.1.2,!=2.1.6,>=2.0.1 in /usr/local/lib/python3.7/dist-packages (from matplotlib>=2.2->seaborn) (2.4.7)\n",
            "Requirement already satisfied: python-dateutil>=2.1 in /usr/local/lib/python3.7/dist-packages (from matplotlib>=2.2->seaborn) (2.8.2)\n",
            "Requirement already satisfied: cycler>=0.10 in /usr/local/lib/python3.7/dist-packages (from matplotlib>=2.2->seaborn) (0.11.0)\n",
            "Requirement already satisfied: kiwisolver>=1.0.1 in /usr/local/lib/python3.7/dist-packages (from matplotlib>=2.2->seaborn) (1.3.2)\n",
            "Requirement already satisfied: pytz>=2017.2 in /usr/local/lib/python3.7/dist-packages (from pandas>=0.23->seaborn) (2018.9)\n",
            "Requirement already satisfied: six>=1.5 in /usr/local/lib/python3.7/dist-packages (from python-dateutil>=2.1->matplotlib>=2.2->seaborn) (1.15.0)\n",
            "Collecting tensorflow_addons\n",
            "  Downloading tensorflow_addons-0.15.0-cp37-cp37m-manylinux_2_12_x86_64.manylinux2010_x86_64.whl (1.1 MB)\n",
            "\u001b[K     |████████████████████████████████| 1.1 MB 5.4 MB/s \n",
            "\u001b[?25hRequirement already satisfied: typeguard>=2.7 in /usr/local/lib/python3.7/dist-packages (from tensorflow_addons) (2.7.1)\n",
            "Installing collected packages: tensorflow-addons\n",
            "Successfully installed tensorflow-addons-0.15.0\n"
          ]
        }
      ]
    },
    {
      "cell_type": "code",
      "metadata": {
        "id": "ZVw6AwaYp_Ql"
      },
      "source": [
        "import tensorflow as tf\n",
        "import tensorflow_addons as tfa\n",
        "import os\n",
        "import numpy as np\n",
        "import tempfile\n",
        "\n",
        "# os.environ['TF_FORCE_GPU_ALLOW_GROWTH'] = 'true'\n",
        "# os.environ['CUDA_LAUNCH_BLOCKING'] = \"1\"\n",
        "\n",
        "from absl import flags\n",
        "\n",
        "import tensorflow_datasets as tfds\n",
        "import matplotlib.pyplot as plt\n",
        "import seaborn as sns\n",
        "from tensorflow_model_optimization.python.core.sparsity.keras import prune\n",
        "from tensorflow_model_optimization.python.core.sparsity.keras import pruning_callbacks\n",
        "from tensorflow_model_optimization.python.core.sparsity.keras import pruning_schedule\n",
        "\n",
        "# %load_ext tensorboard"
      ],
      "execution_count": null,
      "outputs": []
    },
    {
      "cell_type": "code",
      "metadata": {
        "id": "ks2ySqL83EPn"
      },
      "source": [
        "# set seed to make experiment repeatable \n",
        "\n",
        "#SEED = 83\n",
        "#tf.random.set_seed(SEED)"
      ],
      "execution_count": null,
      "outputs": []
    },
    {
      "cell_type": "code",
      "metadata": {
        "id": "0_AtdCxDGFeZ"
      },
      "source": [
        "# setup GPU computation \n",
        "\n",
        "gpus = tf.config.experimental.list_physical_devices('GPU')\n",
        "if gpus:\n",
        "    try:\n",
        "        for gpu in gpus:\n",
        "            tf.config.experimental.set_memory_growth(gpu, True)\n",
        "\n",
        "    except RuntimeError as e:\n",
        "        print(e)"
      ],
      "execution_count": null,
      "outputs": []
    },
    {
      "cell_type": "code",
      "metadata": {
        "colab": {
          "base_uri": "https://localhost:8080/"
        },
        "id": "ptsNoqJp-fSw",
        "outputId": "b8903a6a-01fe-42f9-bbce-0fcb3b95b8bc"
      },
      "source": [
        "device_name = tf.test.gpu_device_name()\n",
        "if device_name != '/device:GPU:0':\n",
        "  raise SystemError('GPU device not found')\n",
        "print('Found GPU at: {}'.format(device_name))"
      ],
      "execution_count": null,
      "outputs": [
        {
          "output_type": "stream",
          "name": "stdout",
          "text": [
            "Found GPU at: /device:GPU:0\n"
          ]
        }
      ]
    },
    {
      "cell_type": "code",
      "metadata": {
        "id": "X3EG-D8wosy1",
        "colab": {
          "base_uri": "https://localhost:8080/",
          "height": 148,
          "referenced_widgets": [
            "c395bbd07f8c4a8f98152f3d4372bd75",
            "571effe5e7f144989755be54fd1c3b04",
            "9fe7f55a36f5462a98371acd1669be1b",
            "447f000d7273442db807ea900a6f91bd",
            "a7714b91e0a4424db02b9773d4c1c4ad",
            "689fa1c2ada74852b058126351533990",
            "48354dc1a7c84d8c91e4688d640b0a5b",
            "4f30559473fa459da7021dd23387ca3f",
            "1a14fad36ed64ac1917a31d4bffd5ee2",
            "dcbac4891f4b484f83d2f8665af17f0b",
            "6218b9c652e348e2987a1436ea155091",
            "3bf42e88e6f043d0959cd2b96634cf72",
            "9ebf40870131449782741d160637a0a4",
            "012d9a2eb1354d7f9610bf924af49f0c",
            "c36c18aaaabf41d0bbd94d9909db366f",
            "c36013d559e74977959c4f464d17e067",
            "33553366d5c44c4899b9e94f8c022e81",
            "09e86e79c56249a6a58b026a1cf9de43",
            "3f7e13789f8146a4b11a2cc15e5ee266",
            "a91353c616734e4cb071aef621a9e541",
            "01ecb7d5ab6645a68900be2a70bfa9ca",
            "5f6cfb67a45648af8c834285cefa4098",
            "aa5f288a632543f78e181e26ba099bc1",
            "4d5ad8219be145229c6accdaf034cb25",
            "b3651aabc2c84c969578c1debb6c9b9d",
            "cd5b58507ff64226ba50a3c0418fa368",
            "620746a934af4ccda511f5cc976c39fb",
            "9f8b829e08164e93b6330ee723efa8cd",
            "26035aaea63b4530af510fb2b402bb65",
            "834899e5babf4cbbb56dcf780b5f6ff4",
            "92eb40e24f564b9f83d2e582e4264f6b",
            "4a280e5174a64eb1a5564747980ab0c7",
            "f78c16c0f5274d3a8c52ac33c87de8f8",
            "6f032b1334cd4f6ba4c970cb681f9d07",
            "d5759127b5f2439b8714de07a9c12932",
            "f153c7dd0ed640ef8f8ae4a88648573b",
            "9bac547f8b9d474eb481b5ef3adda078",
            "43cd95ae5a9f436e8878da52cef749da",
            "4572e6a90c2d45c68c577cfb79bae4d5",
            "672841e5f9274b5db3abbcd0e6174d19",
            "7b2cb7cee6fc4400b94172949464a7b5",
            "f79db208813a45a0960593375f450c06",
            "80569f32b79943bca75c34c56e5744fb",
            "7b1f1a6bfea04aee99f0665ef064aef8",
            "6d37457afac2465d95de2831d9fb936c",
            "386c4af1b85a46b8a6260de5107c7ffc",
            "44df168ee9dc43a981ed5bdb649a0ba9",
            "748cd9d1bc5448389be0ceb3af2cf942",
            "07eb36c61fd44e5fa5fe76ea15503f37",
            "c7b03d7f90bb4b63ba5436e262ee930c",
            "fc4ccec3d107499a9bf77eaba1cf8247",
            "73065f9fe1484c4783df2113c4ead761",
            "640a2ce71a224f07912e950734a6a6c2",
            "80ba83ca628044c4adb31b7c74c6b72e",
            "4b213a1bb6694cacad3f174b477dc989",
            "483997f367174e588894f3bf0ac515bc",
            "414adae449f340dd949ede8c971d3702",
            "51cfac99344d4870b7f61cd7a651c1b4",
            "e4dd9c95336a4ce6bfe7a8905fe0e145",
            "62ee9b09de454572a44b8fa8a4d6840c",
            "e639872d88e54c0aa2781883c1a591d4",
            "9855cb2d1eff486bbd8d580a931c8aca",
            "1a4e8f35298c467ebd780b1952622a98",
            "be8029ade68342398847a73b545832e2",
            "427bcd514a72447ab0e820119f6033f8",
            "b33a109cfc2b43a595ae9c04a217f525",
            "2c89209d7e854b51820cf94d78347e2e",
            "9aa8eca4626e4f70ad42b2acfdeadb15",
            "8c0b36323a3d429a86bb5af6a35fd015",
            "f4c53a9b0e524c85b7b5473b801956f5",
            "e26b4e71659c4743bb7ec4da295a829b",
            "5ab6b84bd1d54032b71396cd5df87877",
            "c00c010b82af4accadd63d996b44c783",
            "e82fff965ae64dcb89a93bb5f9cb1651",
            "7b27646446634c17a5e1a93f7a6c7abd",
            "1fea7ea643684d63b0049eb10176341c",
            "5a7708853f6e4ac8a74fb7bf6f1102fa",
            "7d255cbb230f43c5816252cf54ad9665",
            "d14a71cfcded45d5851ba9ed08f4fe6d",
            "a58025d1e613492aad953461f983f193",
            "131b178f3a3f4216a6677e946dbccc86",
            "da6a84a15ea24675931456c0c64b20c4",
            "9ff679852cf7408e827cf7f176cb6ee2",
            "9e709536555744b49b77b384914e4561",
            "4868f6652ac948aabb7b9d961a4283ec",
            "7c0670b856d946728eb7c7eab43989de",
            "ce57a2dc1b02428eb5bb662278c42d4c",
            "28e27018c26d496a8b147e47dadf8bc5"
          ]
        },
        "outputId": "5dbebf21-874d-4667-9e43-907da4d43f3f"
      },
      "source": [
        "# Load CIFAR10 dataset.\n",
        "(ds_train, ds_val, ds_test), ds_info = tfds.load(\n",
        "    'cifar10',\n",
        "    split=['train[:90%]', 'train[90%:]', 'test'],\n",
        "    as_supervised=True,\n",
        "    data_dir='/content/drive/MyDrive/tesnsorflow_datasets/',\n",
        "    with_info=True\n",
        ")\n",
        "\n",
        "# Normalize the input image so that each pixel value is between 0 and 1.\n",
        "def normalize_img(image, label):\n",
        "    \"\"\"Normalizes images: `uint8` -> `float32`.\"\"\"\n",
        "    return tf.image.convert_image_dtype(image, tf.float32), label"
      ],
      "execution_count": null,
      "outputs": [
        {
          "output_type": "stream",
          "name": "stdout",
          "text": [
            "\u001b[1mDownloading and preparing dataset 162.17 MiB (download: 162.17 MiB, generated: 132.40 MiB, total: 294.58 MiB) to /content/drive/MyDrive/tesnsorflow_datasets/cifar10/3.0.2...\u001b[0m\n"
          ]
        },
        {
          "output_type": "display_data",
          "data": {
            "application/vnd.jupyter.widget-view+json": {
              "model_id": "c395bbd07f8c4a8f98152f3d4372bd75",
              "version_minor": 0,
              "version_major": 2
            },
            "text/plain": [
              "Dl Completed...: 0 url [00:00, ? url/s]"
            ]
          },
          "metadata": {}
        },
        {
          "output_type": "display_data",
          "data": {
            "application/vnd.jupyter.widget-view+json": {
              "model_id": "3bf42e88e6f043d0959cd2b96634cf72",
              "version_minor": 0,
              "version_major": 2
            },
            "text/plain": [
              "Dl Size...: 0 MiB [00:00, ? MiB/s]"
            ]
          },
          "metadata": {}
        },
        {
          "output_type": "display_data",
          "data": {
            "application/vnd.jupyter.widget-view+json": {
              "model_id": "aa5f288a632543f78e181e26ba099bc1",
              "version_minor": 0,
              "version_major": 2
            },
            "text/plain": [
              "Extraction completed...: 0 file [00:00, ? file/s]"
            ]
          },
          "metadata": {}
        },
        {
          "output_type": "display_data",
          "data": {
            "application/vnd.jupyter.widget-view+json": {
              "model_id": "6f032b1334cd4f6ba4c970cb681f9d07",
              "version_minor": 0,
              "version_major": 2
            },
            "text/plain": [
              "Generating splits...:   0%|          | 0/2 [00:00<?, ? splits/s]"
            ]
          },
          "metadata": {}
        },
        {
          "output_type": "display_data",
          "data": {
            "application/vnd.jupyter.widget-view+json": {
              "model_id": "6d37457afac2465d95de2831d9fb936c",
              "version_minor": 0,
              "version_major": 2
            },
            "text/plain": [
              "Generating train examples...:   0%|          | 0/50000 [00:00<?, ? examples/s]"
            ]
          },
          "metadata": {}
        },
        {
          "output_type": "display_data",
          "data": {
            "application/vnd.jupyter.widget-view+json": {
              "model_id": "483997f367174e588894f3bf0ac515bc",
              "version_minor": 0,
              "version_major": 2
            },
            "text/plain": [
              "Shuffling cifar10-train.tfrecord...:   0%|          | 0/50000 [00:00<?, ? examples/s]"
            ]
          },
          "metadata": {}
        },
        {
          "output_type": "display_data",
          "data": {
            "application/vnd.jupyter.widget-view+json": {
              "model_id": "2c89209d7e854b51820cf94d78347e2e",
              "version_minor": 0,
              "version_major": 2
            },
            "text/plain": [
              "Generating test examples...:   0%|          | 0/10000 [00:00<?, ? examples/s]"
            ]
          },
          "metadata": {}
        },
        {
          "output_type": "display_data",
          "data": {
            "application/vnd.jupyter.widget-view+json": {
              "model_id": "7d255cbb230f43c5816252cf54ad9665",
              "version_minor": 0,
              "version_major": 2
            },
            "text/plain": [
              "Shuffling cifar10-test.tfrecord...:   0%|          | 0/10000 [00:00<?, ? examples/s]"
            ]
          },
          "metadata": {}
        },
        {
          "output_type": "stream",
          "name": "stdout",
          "text": [
            "\u001b[1mDataset cifar10 downloaded and prepared to /content/drive/MyDrive/tesnsorflow_datasets/cifar10/3.0.2. Subsequent calls will reuse this data.\u001b[0m\n"
          ]
        }
      ]
    },
    {
      "cell_type": "markdown",
      "metadata": {
        "id": "g8f0kIGN4zYZ"
      },
      "source": [
        "# convert dataset into pandas dataframe to plot labels distribution "
      ]
    },
    {
      "cell_type": "code",
      "metadata": {
        "id": "aMtsj_xV6Vn9"
      },
      "source": [
        "ds_train_pandas = tfds.as_dataframe(ds_train, ds_info)\n",
        "ds_val_pandas = tfds.as_dataframe(ds_val, ds_info)\n",
        "ds_test_pandas = tfds.as_dataframe(ds_test, ds_info)"
      ],
      "execution_count": null,
      "outputs": []
    },
    {
      "cell_type": "code",
      "metadata": {
        "colab": {
          "base_uri": "https://localhost:8080/",
          "height": 301
        },
        "id": "xeEAB8QQ9w9U",
        "outputId": "0fa04c3a-3060-4a4d-b8a8-6ac5206e02aa"
      },
      "source": [
        "sns.set_theme(style=\"darkgrid\")\n",
        "\n",
        "ax = sns.countplot(x=\"label\", data=ds_train_pandas).set_title('Training set distribution')"
      ],
      "execution_count": null,
      "outputs": [
        {
          "output_type": "display_data",
          "data": {
            "image/png": "[encoded data removed]",
            "text/plain": [
              "<Figure size 432x288 with 1 Axes>"
            ]
          },
          "metadata": {}
        }
      ]
    },
    {
      "cell_type": "code",
      "metadata": {
        "colab": {
          "base_uri": "https://localhost:8080/",
          "height": 301
        },
        "id": "E_9-TA19-EIb",
        "outputId": "b5811e29-5457-4bc1-ba1d-37700efb7a72"
      },
      "source": [
        "ax = sns.countplot(x=\"label\", data=ds_val_pandas).set_title('Validation set distribution')"
      ],
      "execution_count": null,
      "outputs": [
        {
          "output_type": "display_data",
          "data": {
            "image/png": "[encoded data removed]",
            "text/plain": [
              "<Figure size 432x288 with 1 Axes>"
            ]
          },
          "metadata": {}
        }
      ]
    },
    {
      "cell_type": "code",
      "metadata": {
        "colab": {
          "base_uri": "https://localhost:8080/",
          "height": 301
        },
        "id": "nyUdGh11-Js_",
        "outputId": "27a79893-8275-4cb0-e2a6-4dd961777e88"
      },
      "source": [
        "ax = sns.countplot(x=\"label\", data=ds_test_pandas).set_title('Test set distribution')"
      ],
      "execution_count": null,
      "outputs": [
        {
          "output_type": "display_data",
          "data": {
            "image/png": "[encoded data removed]",
            "text/plain": [
              "<Figure size 432x288 with 1 Axes>"
            ]
          },
          "metadata": {}
        }
      ]
    },
    {
      "cell_type": "code",
      "metadata": {
        "colab": {
          "base_uri": "https://localhost:8080/"
        },
        "id": "IPmgKViKBOok",
        "outputId": "0d6198dd-be91-4d17-da4c-1c9c65de6c78"
      },
      "source": [
        "tf.config.list_physical_devices('GPU')"
      ],
      "execution_count": null,
      "outputs": [
        {
          "output_type": "execute_result",
          "data": {
            "text/plain": [
              "[PhysicalDevice(name='/physical_device:GPU:0', device_type='GPU')]"
            ]
          },
          "metadata": {},
          "execution_count": 8
        }
      ]
    },
    {
      "cell_type": "code",
      "metadata": {
        "colab": {
          "base_uri": "https://localhost:8080/"
        },
        "id": "288f4gj3Beef",
        "outputId": "82bc790c-39e1-44c5-a296-88c296d6f28a"
      },
      "source": [
        "!nvidia-smi"
      ],
      "execution_count": null,
      "outputs": [
        {
          "output_type": "stream",
          "name": "stdout",
          "text": [
            "Wed Nov 17 09:55:31 2021       \n",
            "+-----------------------------------------------------------------------------+\n",
            "| NVIDIA-SMI 495.44       Driver Version: 460.32.03    CUDA Version: 11.2     |\n",
            "|-------------------------------+----------------------+----------------------+\n",
            "| GPU  Name        Persistence-M| Bus-Id        Disp.A | Volatile Uncorr. ECC |\n",
            "| Fan  Temp  Perf  Pwr:Usage/Cap|         Memory-Usage | GPU-Util  Compute M. |\n",
            "|                               |                      |               MIG M. |\n",
            "|===============================+======================+======================|\n",
            "|   0  Tesla K80           Off  | 00000000:00:04.0 Off |                    0 |\n",
            "| N/A   73C    P0    78W / 149W |    147MiB / 11441MiB |      0%      Default |\n",
            "|                               |                      |                  N/A |\n",
            "+-------------------------------+----------------------+----------------------+\n",
            "                                                                               \n",
            "+-----------------------------------------------------------------------------+\n",
            "| Processes:                                                                  |\n",
            "|  GPU   GI   CI        PID   Type   Process name                  GPU Memory |\n",
            "|        ID   ID                                                   Usage      |\n",
            "|=============================================================================|\n",
            "|  No running processes found                                                 |\n",
            "+-----------------------------------------------------------------------------+\n"
          ]
        }
      ]
    },
    {
      "cell_type": "code",
      "metadata": {
        "id": "UYWFI-Mpq8oU"
      },
      "source": [
        "# Load the data in batches of 128 images.\n",
        "\n",
        "batch_size = 128\n",
        "\n",
        "def prepare_dataset(ds, buffer_size=None):\n",
        "    ds = ds.map(normalize_img, num_parallel_calls=tf.data.experimental.AUTOTUNE)\n",
        "    ds = ds.cache()\n",
        "    if buffer_size:\n",
        "        ds = ds.shuffle(buffer_size)\n",
        "    ds = ds.batch(batch_size)\n",
        "    ds = ds.prefetch(tf.data.experimental.AUTOTUNE)\n",
        "    return ds"
      ],
      "execution_count": null,
      "outputs": []
    },
    {
      "cell_type": "markdown",
      "metadata": {
        "id": "O5cKQZKXpwNm"
      },
      "source": [
        "# Visualize Training set Images"
      ]
    },
    {
      "cell_type": "code",
      "metadata": {
        "colab": {
          "base_uri": "https://localhost:8080/",
          "height": 537
        },
        "id": "M-_nvowmpvni",
        "outputId": "ae515e54-f51e-46e5-c404-37189c13d701"
      },
      "source": [
        "fig = tfds.show_examples(ds_train, ds_info)"
      ],
      "execution_count": null,
      "outputs": [
        {
          "output_type": "display_data",
          "data": {
            "image/png": "[encoded data removed]",
            "text/plain": [
              "<Figure size 648x648 with 9 Axes>"
            ]
          },
          "metadata": {}
        }
      ]
    },
    {
      "cell_type": "code",
      "metadata": {
        "id": "Ey4FC64YpuMH"
      },
      "source": [
        "# preprocess the datasets \n",
        "\n",
        "ds_train_preprocessed = prepare_dataset(ds_train,\n",
        "                           buffer_size=ds_info.splits['train'].num_examples)\n",
        "ds_val_preprocessed = prepare_dataset(ds_val)\n",
        "ds_test_preprocessed = prepare_dataset(ds_test)"
      ],
      "execution_count": null,
      "outputs": []
    },
    {
      "cell_type": "markdown",
      "metadata": {
        "id": "KXrc2paqPEw9"
      },
      "source": [
        "# Setup pruning schedule and start training "
      ]
    },
    {
      "cell_type": "code",
      "metadata": {
        "id": "mOlYHPFim3xf",
        "colab": {
          "base_uri": "https://localhost:8080/",
          "height": 1000
        },
        "outputId": "ab9fefff-39d7-4d19-82f1-86f97289e4f7"
      },
      "source": [
        "from tensorflow.keras import datasets, layers, models\n",
        "import matplotlib.pyplot as plt \n",
        "\n",
        "for pruning_percentage in [0, 0.30, 0.50, 0.70, 0.90]:     \n",
        "\n",
        "  \"\"\" Pruning setup. See [paper](https://arxiv.org/abs/1710.01878) \"\"\"\n",
        "  pruning_params = {\n",
        "      'pruning_schedule':\n",
        "          pruning_schedule.PolynomialDecay(\n",
        "              initial_sparsity=0.0,\n",
        "              final_sparsity=0.3,\n",
        "              begin_step=35,\n",
        "              end_step=50,\n",
        "              frequency=1)              \n",
        "  }\n",
        "\n",
        "  \"\"\" ResNet50 too powerful for Cifar10 \"\"\"\n",
        "  # pruned_model = tf.keras.applications.ResNet50(weights=None,input_shape=[32,32,3], classes=10, pooling='max')\n",
        "\n",
        "  \"\"\" Simpler CNN model with 240.000 params \"\"\"\n",
        "  pruned_model = tf.keras.models.Sequential()\n",
        "  pruned_model.add(layers.Conv2D(32, (3,3), padding='same', activation='relu', input_shape=(32,32,3)))\n",
        "  pruned_model.add(layers.BatchNormalization())\n",
        "  pruned_model.add(layers.Conv2D(32, (3,3), padding='same', activation='relu'))\n",
        "  pruned_model.add(layers.BatchNormalization())\n",
        "  pruned_model.add(layers.MaxPooling2D(pool_size=(2,2)))\n",
        "  pruned_model.add(layers.Dropout(0.3))\n",
        "\n",
        "  pruned_model.add(layers.Conv2D(64, (3,3), padding='same', activation='relu'))\n",
        "  pruned_model.add(layers.BatchNormalization())\n",
        "  pruned_model.add(layers.Conv2D(64, (3,3), padding='same', activation='relu'))\n",
        "  pruned_model.add(layers.BatchNormalization())\n",
        "  pruned_model.add(layers.MaxPooling2D(pool_size=(2,2)))\n",
        "  pruned_model.add(layers.Dropout(0.5))\n",
        "\n",
        "  pruned_model.add(layers.Conv2D(128, (3,3), padding='same', activation='relu'))\n",
        "  pruned_model.add(layers.BatchNormalization())  \n",
        "  pruned_model.add(layers.Conv2D(128, (3,3), padding='same', activation='relu'))\n",
        "  pruned_model.add(layers.BatchNormalization())\n",
        "  pruned_model.add(layers.MaxPooling2D(pool_size=(2,2)))\n",
        "  pruned_model.add(layers.Dropout(0.5))\n",
        "\n",
        "  pruned_model.add(layers.Flatten())\n",
        "  pruned_model.add(layers.Dense(128, activation='relu'))\n",
        "  pruned_model.add(layers.BatchNormalization())\n",
        "  pruned_model.add(layers.Dropout(0.5))\n",
        "  pruned_model.add(layers.Dense(10))\n",
        "\n",
        "  \"\"\"\" Modify tf.keras model to be pruned during training. \"\"\"\n",
        "  pruned_model = prune.prune_low_magnitude(\n",
        "      pruned_model, **pruning_params)\n",
        "  \n",
        "  # future setup for decaying learning rate \n",
        "  lr_scheduler = tf.keras.optimizers.schedules.ExponentialDecay(\n",
        "    0.01,\n",
        "    decay_steps=25,\n",
        "    decay_rate=0.96,\n",
        "    staircase=True)\n",
        "  \n",
        "  # adding weight decay to avoid overfitting \n",
        "  # op = tfa.optimizers.SGDW(learning_rate=0.0005, weight_decay=0.0005, momentum=0.9)\n",
        "\n",
        "  #op = tf.keras.optimizers.SGD(learning_rate=0.001, momentum=0.5, nesterov=True)\n",
        "\n",
        "  pruned_model.compile(\n",
        "      loss=tf.keras.losses.SparseCategoricalCrossentropy(from_logits=True),\n",
        "      optimizer='adam',\n",
        "      metrics=['accuracy'])\n",
        "\n",
        "  epochs = 80\n",
        "\n",
        "  # logdir = tempfile.mkdtemp()\n",
        "\n",
        "  # Add a pruning step callback to peg the pruning step to the optimizer's\n",
        "  # step. Also add a callback to add pruning summaries to tensorboard\n",
        "  callbacks = [\n",
        "      pruning_callbacks.UpdatePruningStep()#,\n",
        "      #pruning_callbacks.PruningSummaries(log_dir=logdir)\n",
        "  ]\n",
        "\n",
        "  # start the training procedure \n",
        "  history = pruned_model.fit(\n",
        "      ds_train_preprocessed,\n",
        "      batch_size=batch_size,\n",
        "      epochs=epochs,\n",
        "      verbose=0,\n",
        "      callbacks=callbacks,\n",
        "      validation_data=ds_val_preprocessed)\n",
        "  \n",
        "  score = pruned_model.evaluate(ds_test_preprocessed, verbose=0)\n",
        "  # print('Pruned test loss:', score[0])\n",
        "  # print('Pruned test accuracy:', score[1])\n",
        "\n",
        "  plt.clf()\n",
        "  plt.grid(True)\n",
        "  plt.plot(history.history['accuracy'])\n",
        "  plt.plot(history.history['val_accuracy'])\n",
        "  plt.title('model accuracy pruning {}%'.format(pruning_percentage) , fontsize=15)\n",
        "  plt.ylabel('accuracy', fontsize=15)\n",
        "  plt.xlabel('epoch', fontsize=15)\n",
        "  plt.legend(['train', 'val'], loc='lower right', fontsize=15)\n",
        "  plt.savefig('accuracy', dpi=100, bbox_inches='tight')\n",
        "  plt.show()\n",
        "\n",
        "  plt.clf()\n",
        "  plt.grid(True)\n",
        "  plt.plot(history.history['loss'])\n",
        "  plt.plot(history.history['val_loss'])\n",
        "  plt.title('model loss pruning {}%'.format(pruning_percentage), fontsize=15)\n",
        "  plt.ylabel('loss', fontsize=15)\n",
        "  plt.xlabel('epoch', fontsize=15)\n",
        "  plt.legend(['train', 'val'], loc='upper right',fontsize=15)\n",
        "  plt.savefig('loss', dpi=100, bbox_inches='tight')\n",
        "  plt.show()\n",
        "\n",
        "  pruned_model.save(\"pruned_CNN_{}percentage_epochs{}\".format(pruning_percentage, epochs))"
      ],
      "execution_count": null,
      "outputs": [
        {
          "output_type": "stream",
          "name": "stderr",
          "text": [
            "/usr/local/lib/python3.7/dist-packages/keras/engine/base_layer.py:2223: UserWarning: `layer.add_variable` is deprecated and will be removed in a future version. Please use `layer.add_weight` method instead.\n",
            "  warnings.warn('`layer.add_variable` is deprecated and '\n"
          ]
        },
        {
          "output_type": "display_data",
          "data": {
            "image/png": "[encoded data removed]",
            "text/plain": [
              "<Figure size 432x288 with 1 Axes>"
            ]
          },
          "metadata": {
            "needs_background": "light"
          }
        },
        {
          "output_type": "display_data",
          "data": {
            "image/png": "[encoded data removed]",
            "text/plain": [
              "<Figure size 432x288 with 1 Axes>"
            ]
          },
          "metadata": {
            "needs_background": "light"
          }
        },
        {
          "output_type": "stream",
          "name": "stderr",
          "text": [
            "WARNING:absl:Found untraced functions such as conv2d_12_layer_call_fn, conv2d_12_layer_call_and_return_conditional_losses, conv2d_13_layer_call_fn, conv2d_13_layer_call_and_return_conditional_losses, dropout_8_layer_call_fn while saving (showing 5 of 65). These functions will not be directly callable after loading.\n"
          ]
        },
        {
          "output_type": "stream",
          "name": "stdout",
          "text": [
            "INFO:tensorflow:Assets written to: pruned_CNN_0percentage_epochs80/assets\n"
          ]
        },
        {
          "output_type": "stream",
          "name": "stderr",
          "text": [
            "INFO:tensorflow:Assets written to: pruned_CNN_0percentage_epochs80/assets\n",
            "/usr/local/lib/python3.7/dist-packages/keras/engine/base_layer.py:2223: UserWarning: `layer.add_variable` is deprecated and will be removed in a future version. Please use `layer.add_weight` method instead.\n",
            "  warnings.warn('`layer.add_variable` is deprecated and '\n"
          ]
        },
        {
          "output_type": "display_data",
          "data": {
            "image/png": "[encoded data removed]",
            "text/plain": [
              "<Figure size 432x288 with 1 Axes>"
            ]
          },
          "metadata": {
            "needs_background": "light"
          }
        },
        {
          "output_type": "display_data",
          "data": {
            "image/png": "[encoded data removed]",
            "text/plain": [
              "<Figure size 432x288 with 1 Axes>"
            ]
          },
          "metadata": {
            "needs_background": "light"
          }
        },
        {
          "output_type": "stream",
          "name": "stderr",
          "text": [
            "WARNING:absl:Found untraced functions such as conv2d_18_layer_call_fn, conv2d_18_layer_call_and_return_conditional_losses, conv2d_19_layer_call_fn, conv2d_19_layer_call_and_return_conditional_losses, dropout_12_layer_call_fn while saving (showing 5 of 65). These functions will not be directly callable after loading.\n"
          ]
        },
        {
          "output_type": "stream",
          "name": "stdout",
          "text": [
            "INFO:tensorflow:Assets written to: pruned_CNN_0.3percentage_epochs80/assets\n"
          ]
        },
        {
          "output_type": "stream",
          "name": "stderr",
          "text": [
            "INFO:tensorflow:Assets written to: pruned_CNN_0.3percentage_epochs80/assets\n",
            "/usr/local/lib/python3.7/dist-packages/keras/engine/base_layer.py:2223: UserWarning: `layer.add_variable` is deprecated and will be removed in a future version. Please use `layer.add_weight` method instead.\n",
            "  warnings.warn('`layer.add_variable` is deprecated and '\n"
          ]
        },
        {
          "output_type": "display_data",
          "data": {
            "image/png": "[encoded data removed]",
            "text/plain": [
              "<Figure size 432x288 with 1 Axes>"
            ]
          },
          "metadata": {
            "needs_background": "light"
          }
        },
        {
          "output_type": "display_data",
          "data": {
            "image/png": "[encoded data removed]",
            "text/plain": [
              "<Figure size 432x288 with 1 Axes>"
            ]
          },
          "metadata": {
            "needs_background": "light"
          }
        },
        {
          "output_type": "stream",
          "name": "stderr",
          "text": [
            "WARNING:absl:Found untraced functions such as conv2d_24_layer_call_fn, conv2d_24_layer_call_and_return_conditional_losses, conv2d_25_layer_call_fn, conv2d_25_layer_call_and_return_conditional_losses, dropout_16_layer_call_fn while saving (showing 5 of 65). These functions will not be directly callable after loading.\n"
          ]
        },
        {
          "output_type": "stream",
          "name": "stdout",
          "text": [
            "INFO:tensorflow:Assets written to: pruned_CNN_0.5percentage_epochs80/assets\n"
          ]
        },
        {
          "output_type": "stream",
          "name": "stderr",
          "text": [
            "INFO:tensorflow:Assets written to: pruned_CNN_0.5percentage_epochs80/assets\n",
            "/usr/local/lib/python3.7/dist-packages/keras/engine/base_layer.py:2223: UserWarning: `layer.add_variable` is deprecated and will be removed in a future version. Please use `layer.add_weight` method instead.\n",
            "  warnings.warn('`layer.add_variable` is deprecated and '\n"
          ]
        },
        {
          "output_type": "display_data",
          "data": {
            "image/png": "[encoded data removed]",
            "text/plain": [
              "<Figure size 432x288 with 1 Axes>"
            ]
          },
          "metadata": {
            "needs_background": "light"
          }
        },
        {
          "output_type": "display_data",
          "data": {
            "image/png": "[encoded data removed]",
            "text/plain": [
              "<Figure size 432x288 with 1 Axes>"
            ]
          },
          "metadata": {
            "needs_background": "light"
          }
        },
        {
          "output_type": "stream",
          "name": "stderr",
          "text": [
            "WARNING:absl:Found untraced functions such as conv2d_30_layer_call_fn, conv2d_30_layer_call_and_return_conditional_losses, conv2d_31_layer_call_fn, conv2d_31_layer_call_and_return_conditional_losses, dropout_20_layer_call_fn while saving (showing 5 of 65). These functions will not be directly callable after loading.\n"
          ]
        },
        {
          "output_type": "stream",
          "name": "stdout",
          "text": [
            "INFO:tensorflow:Assets written to: pruned_CNN_0.7percentage_epochs80/assets\n"
          ]
        },
        {
          "output_type": "stream",
          "name": "stderr",
          "text": [
            "INFO:tensorflow:Assets written to: pruned_CNN_0.7percentage_epochs80/assets\n",
            "/usr/local/lib/python3.7/dist-packages/keras/engine/base_layer.py:2223: UserWarning: `layer.add_variable` is deprecated and will be removed in a future version. Please use `layer.add_weight` method instead.\n",
            "  warnings.warn('`layer.add_variable` is deprecated and '\n"
          ]
        },
        {
          "output_type": "display_data",
          "data": {
            "image/png": "[encoded data removed]",
            "text/plain": [
              "<Figure size 432x288 with 1 Axes>"
            ]
          },
          "metadata": {
            "needs_background": "light"
          }
        },
        {
          "output_type": "display_data",
          "data": {
            "image/png": "[encoded data removed]",
            "text/plain": [
              "<Figure size 432x288 with 1 Axes>"
            ]
          },
          "metadata": {
            "needs_background": "light"
          }
        },
        {
          "output_type": "stream",
          "name": "stderr",
          "text": [
            "WARNING:absl:Found untraced functions such as conv2d_36_layer_call_fn, conv2d_36_layer_call_and_return_conditional_losses, conv2d_37_layer_call_fn, conv2d_37_layer_call_and_return_conditional_losses, dropout_24_layer_call_fn while saving (showing 5 of 65). These functions will not be directly callable after loading.\n"
          ]
        },
        {
          "output_type": "stream",
          "name": "stdout",
          "text": [
            "INFO:tensorflow:Assets written to: pruned_CNN_0.9percentage_epochs80/assets\n"
          ]
        },
        {
          "output_type": "stream",
          "name": "stderr",
          "text": [
            "INFO:tensorflow:Assets written to: pruned_CNN_0.9percentage_epochs80/assets\n"
          ]
        }
      ]
    },
    {
      "cell_type": "code",
      "metadata": {
        "id": "0k35Im6JRPbX"
      },
      "source": [
        "# store the trained weights \n",
        "import cv2\n",
        "!cp -r pruned_CNN_0percentage_epochs80/ \"/content/drive/MyDrive/\"\n",
        "!cp -r pruned_CNN_0.3percentage_epochs80/ \"/content/drive/MyDrive/\" \n",
        "!cp -r pruned_CNN_0.5percentage_epochs80/ \"/content/drive/MyDrive/\" \n",
        "!cp -r pruned_CNN_0.7percentage_epochs80/ \"/content/drive/MyDrive/\" \n",
        "!cp -r pruned_CNN_0.9percentage_epochs80/ \"/content/drive/MyDrive/\" "
      ],
      "execution_count": null,
      "outputs": []
    },
    {
      "cell_type": "code",
      "metadata": {
        "id": "UEJdGdgKPY6V"
      },
      "source": [
        "model_0 = tf.keras.models.load_model('/content/drive/MyDrive/CIFAR10-pruned_cnn/pruned_CNN_0percentage_epochs80')\n",
        "model_03 = tf.keras.models.load_model('/content/drive/MyDrive/CIFAR10-pruned_cnn/pruned_CNN_0.3percentage_epochs80')\n",
        "model_05 = tf.keras.models.load_model('/content/drive/MyDrive/CIFAR10-pruned_cnn/pruned_CNN_0.5percentage_epochs80')\n",
        "model_07 = tf.keras.models.load_model('/content/drive/MyDrive/CIFAR10-pruned_cnn/pruned_CNN_0.7percentage_epochs80')\n",
        "model_09 = tf.keras.models.load_model('/content/drive/MyDrive/CIFAR10-pruned_cnn/pruned_CNN_0.9percentage_epochs80')"
      ],
      "execution_count": null,
      "outputs": []
    },
    {
      "cell_type": "markdown",
      "metadata": {
        "id": "_FnApH_9U65j"
      },
      "source": [
        "# Number of label mispredicted per classes for each model "
      ]
    },
    {
      "cell_type": "code",
      "metadata": {
        "colab": {
          "base_uri": "https://localhost:8080/",
          "height": 299
        },
        "id": "C-ycmCAabV3k",
        "outputId": "35b6148e-c637-43c9-c264-2a341bbfd90c"
      },
      "source": [
        "import matplotlib.pyplot as plt \n",
        "\n",
        "models = [model_0, model_03, model_05, model_07, model_09]\n",
        "pruning_percentage = [0, 0.3, 0.5, 0.7, 0.9]\n",
        "\n",
        "\n",
        "fig, ax = plt.subplots(2, 3, sharex='col', sharey='row')\n",
        "\n",
        "fontsize = 14\n",
        "ax[0, 0].set_title('0% pruning', fontsize=fontsize)\n",
        "ax[0, 1].set_title('30% pruning', fontsize=fontsize)\n",
        "ax[0, 2].set_title('50% pruning', fontsize=fontsize)\n",
        "ax[1, 0].set_title('70% pruning', fontsize=fontsize)\n",
        "ax[1, 1].set_title('90% pruning', fontsize=fontsize)"
      ],
      "execution_count": null,
      "outputs": [
        {
          "output_type": "execute_result",
          "data": {
            "text/plain": [
              "Text(0.5, 1.0, '90% pruning')"
            ]
          },
          "metadata": {},
          "execution_count": 30
        },
        {
          "output_type": "display_data",
          "data": {
            "image/png": "[encoded data removed]",
            "text/plain": [
              "<Figure size 432x288 with 6 Axes>"
            ]
          },
          "metadata": {
            "needs_background": "light"
          }
        }
      ]
    },
    {
      "cell_type": "code",
      "metadata": {
        "colab": {
          "base_uri": "https://localhost:8080/",
          "height": 317
        },
        "id": "Ec_SzURZUmkO",
        "outputId": "34ec8d5c-5a0e-45e6-fa26-e8992467a923"
      },
      "source": [
        "# hashmap saving for each class the number of example in the test set mispredicted \n",
        "misprediction_for_classes = {\"0\":0, \"1\":0, \"2\":0, \"3\":0, \"4\":0, \"5\":0, \"6\":0 ,\"7\":0 ,\"8\":0,\"9\":0 }\n",
        "test_accuracy = tf.keras.metrics.Accuracy()\n",
        "\n",
        "\n",
        "for (x, y) in ds_test_preprocessed:\n",
        "  # training=False is needed only if there are layers with different\n",
        "  # behavior during training versus inference (e.g. Dropout).\n",
        "  logits = model_0(x, training=False)\n",
        "  prediction = tf.argmax(logits, axis=1, output_type=tf.int64)\n",
        "  iterator = 0 \n",
        "  #print(prediction)\n",
        "  #print(y)\n",
        "\n",
        "\n",
        "  for i in prediction: \n",
        "    #print(i)\n",
        "    #print(y[iterator])\n",
        "    if i != y[iterator]: \n",
        "      misprediction_for_classes[str(int(y[iterator]))] += 1 \n",
        "    iterator += 1   \n",
        "  test_accuracy(prediction, y)\n",
        "\n",
        "print(\"Test set accuracy: {:.3%}\".format(test_accuracy.result()))\n",
        "\n",
        "# plot the result as columns \n",
        "labels = []\n",
        "missclassified_examples = []\n",
        "\n",
        "for label in misprediction_for_classes: \n",
        "  labels.append(label)\n",
        "  missclassified_examples.append(misprediction_for_classes[label])\n",
        "\n",
        "plt.clf()\n",
        "Colors = ['green','blue','purple','brown','teal', 'indigo', 'orange', 'black', 'saddlebrown', 'cadetblue']\n",
        "plt.bar(labels, missclassified_examples, color=Colors)\n",
        "plt.title('Model no pruning classes accuracy', fontsize=14)\n",
        "plt.xlabel('Classes', fontsize=14)\n",
        "plt.ylabel('Missclassified number', fontsize=14)\n",
        "plt.grid(True)\n",
        "plt.show()\n",
        "\n",
        "ax[0,0].plot(labels, missclassified_examples)\n",
        "# print(misprediction_for_classes)"
      ],
      "execution_count": null,
      "outputs": [
        {
          "output_type": "stream",
          "name": "stdout",
          "text": [
            "Test set accuracy: 86.130%\n"
          ]
        },
        {
          "output_type": "display_data",
          "data": {
            "image/png": "[encoded data removed]",
            "text/plain": [
              "<Figure size 432x288 with 1 Axes>"
            ]
          },
          "metadata": {
            "needs_background": "light"
          }
        }
      ]
    },
    {
      "cell_type": "code",
      "metadata": {
        "colab": {
          "base_uri": "https://localhost:8080/"
        },
        "id": "PlsbNwcFbz6C",
        "outputId": "64bba730-584a-46da-d45e-547ac5f5a195"
      },
      "source": [
        "for label in misprediction_for_classes: \n",
        "  print(misprediction_for_classes[label])"
      ],
      "execution_count": null,
      "outputs": [
        {
          "output_type": "stream",
          "name": "stdout",
          "text": [
            "192\n",
            "74\n",
            "238\n",
            "269\n",
            "118\n",
            "130\n",
            "109\n",
            "124\n",
            "78\n",
            "55\n"
          ]
        }
      ]
    },
    {
      "cell_type": "code",
      "metadata": {
        "colab": {
          "base_uri": "https://localhost:8080/",
          "height": 317
        },
        "id": "srrliPQja--w",
        "outputId": "3381b521-7fac-402d-adf0-4a9437c091dc"
      },
      "source": [
        "# hashmap saving for each class the number of example in the test set mispredicted \n",
        "misprediction_for_classes = {\"0\":0, \"1\":0, \"2\":0, \"3\":0, \"4\":0, \"5\":0, \"6\":0 ,\"7\":0 ,\"8\":0,\"9\":0 }\n",
        "test_accuracy = tf.keras.metrics.Accuracy()\n",
        "\n",
        "\n",
        "for (x, y) in ds_test_preprocessed:\n",
        "  # training=False is needed only if there are layers with different\n",
        "  # behavior during training versus inference (e.g. Dropout).\n",
        "  logits = model_03(x, training=False)\n",
        "  prediction = tf.argmax(logits, axis=1, output_type=tf.int64)\n",
        "  iterator = 0 \n",
        "  #print(prediction)\n",
        "  #print(y)\n",
        "\n",
        "\n",
        "  for i in prediction: \n",
        "    #print(i)\n",
        "    #print(y[iterator])\n",
        "    if i != y[iterator]: \n",
        "      misprediction_for_classes[str(int(y[iterator]))] += 1 \n",
        "    iterator += 1   \n",
        "  test_accuracy(prediction, y)\n",
        "\n",
        "print(\"Test set accuracy: {:.3%}\".format(test_accuracy.result()))\n",
        "\n",
        "# plot the result as columns \n",
        "labels = []\n",
        "missclassified_examples = []\n",
        "\n",
        "for label in misprediction_for_classes: \n",
        "  labels.append(label)\n",
        "  missclassified_examples.append(misprediction_for_classes[label])\n",
        "\n",
        "plt.clf()\n",
        "Colors = ['green','blue','purple','brown','teal', 'indigo', 'orange', 'black', 'saddlebrown', 'cadetblue']\n",
        "plt.bar(labels, missclassified_examples, color=Colors)\n",
        "plt.title('Model 30% pruning classes accuracy', fontsize=14)\n",
        "plt.xlabel('Classes', fontsize=14)\n",
        "plt.ylabel('Missclassified number', fontsize=14)\n",
        "plt.grid(True)\n",
        "plt.show()"
      ],
      "execution_count": null,
      "outputs": [
        {
          "output_type": "stream",
          "name": "stdout",
          "text": [
            "Test set accuracy: 86.230%\n"
          ]
        },
        {
          "output_type": "display_data",
          "data": {
            "image/png": "[encoded data removed]",
            "text/plain": [
              "<Figure size 432x288 with 1 Axes>"
            ]
          },
          "metadata": {
            "needs_background": "light"
          }
        }
      ]
    },
    {
      "cell_type": "code",
      "metadata": {
        "colab": {
          "base_uri": "https://localhost:8080/",
          "height": 317
        },
        "id": "_hdPz-DNa_eM",
        "outputId": "de69d994-8420-4b7a-969e-a784ce0a0862"
      },
      "source": [
        "# hashmap saving for each class the number of example in the test set mispredicted \n",
        "misprediction_for_classes = {\"0\":0, \"1\":0, \"2\":0, \"3\":0, \"4\":0, \"5\":0, \"6\":0 ,\"7\":0 ,\"8\":0,\"9\":0 }\n",
        "test_accuracy = tf.keras.metrics.Accuracy()\n",
        "\n",
        "\n",
        "for (x, y) in ds_test_preprocessed:\n",
        "  # training=False is needed only if there are layers with different\n",
        "  # behavior during training versus inference (e.g. Dropout).\n",
        "  logits = model_05(x, training=False)\n",
        "  prediction = tf.argmax(logits, axis=1, output_type=tf.int64)\n",
        "  iterator = 0 \n",
        "  #print(prediction)\n",
        "  #print(y)\n",
        "\n",
        "\n",
        "  for i in prediction: \n",
        "    #print(i)\n",
        "    #print(y[iterator])\n",
        "    if i != y[iterator]: \n",
        "      misprediction_for_classes[str(int(y[iterator]))] += 1 \n",
        "    iterator += 1   \n",
        "  test_accuracy(prediction, y)\n",
        "\n",
        "print(\"Test set accuracy: {:.3%}\".format(test_accuracy.result()))\n",
        "\n",
        "\n",
        "# plot the result as columns \n",
        "labels = []\n",
        "missclassified_examples = []\n",
        "\n",
        "for label in misprediction_for_classes: \n",
        "  labels.append(label)\n",
        "  missclassified_examples.append(misprediction_for_classes[label])\n",
        "\n",
        "plt.clf()\n",
        "Colors = ['green','blue','purple','brown','teal', 'indigo', 'orange', 'black', 'saddlebrown', 'cadetblue']\n",
        "plt.bar(labels, missclassified_examples, color=Colors)\n",
        "plt.title('Model 50% pruning classes accuracy', fontsize=14)\n",
        "plt.xlabel('Classes', fontsize=14)\n",
        "plt.ylabel('Missclassified number', fontsize=14)\n",
        "plt.grid(True)\n",
        "plt.show()"
      ],
      "execution_count": null,
      "outputs": [
        {
          "output_type": "stream",
          "name": "stdout",
          "text": [
            "Test set accuracy: 82.420%\n"
          ]
        },
        {
          "output_type": "display_data",
          "data": {
            "image/png": "[encoded data removed]",
            "text/plain": [
              "<Figure size 432x288 with 1 Axes>"
            ]
          },
          "metadata": {
            "needs_background": "light"
          }
        }
      ]
    },
    {
      "cell_type": "code",
      "metadata": {
        "colab": {
          "base_uri": "https://localhost:8080/",
          "height": 317
        },
        "id": "cIuKPFknbAI1",
        "outputId": "2d7dadeb-abb7-463d-87b3-5486a886c343"
      },
      "source": [
        "# hashmap saving for each class the number of example in the test set mispredicted \n",
        "misprediction_for_classes = {\"0\":0, \"1\":0, \"2\":0, \"3\":0, \"4\":0, \"5\":0, \"6\":0 ,\"7\":0 ,\"8\":0,\"9\":0 }\n",
        "test_accuracy = tf.keras.metrics.Accuracy()\n",
        "\n",
        "\n",
        "for (x, y) in ds_test_preprocessed:\n",
        "  # training=False is needed only if there are layers with different\n",
        "  # behavior during training versus inference (e.g. Dropout).\n",
        "  logits = model_07(x, training=False)\n",
        "  prediction = tf.argmax(logits, axis=1, output_type=tf.int64)\n",
        "  iterator = 0 \n",
        "  #print(prediction)\n",
        "  #print(y)\n",
        "\n",
        "\n",
        "  for i in prediction: \n",
        "    #print(i)\n",
        "    #print(y[iterator])\n",
        "    if i != y[iterator]: \n",
        "      misprediction_for_classes[str(int(y[iterator]))] += 1 \n",
        "    iterator += 1   \n",
        "  test_accuracy(prediction, y)\n",
        "\n",
        "print(\"Test set accuracy: {:.3%}\".format(test_accuracy.result()))\n",
        "\n",
        "\n",
        "# plot the result as columns \n",
        "labels = []\n",
        "missclassified_examples = []\n",
        "\n",
        "for label in misprediction_for_classes: \n",
        "  labels.append(label)\n",
        "  missclassified_examples.append(misprediction_for_classes[label])\n",
        "\n",
        "plt.clf()\n",
        "Colors = ['green','blue','purple','brown','teal', 'indigo', 'orange', 'black', 'saddlebrown', 'cadetblue']\n",
        "plt.bar(labels, missclassified_examples, color=Colors)\n",
        "plt.title('Model 70% pruning classes accuracy', fontsize=14)\n",
        "plt.xlabel('Classes', fontsize=14)\n",
        "plt.ylabel('Missclassified number', fontsize=14)\n",
        "plt.grid(True)\n",
        "plt.show()"
      ],
      "execution_count": null,
      "outputs": [
        {
          "output_type": "stream",
          "name": "stdout",
          "text": [
            "Test set accuracy: 82.860%\n"
          ]
        },
        {
          "output_type": "display_data",
          "data": {
            "image/png": "[encoded data removed]",
            "text/plain": [
              "<Figure size 432x288 with 1 Axes>"
            ]
          },
          "metadata": {
            "needs_background": "light"
          }
        }
      ]
    },
    {
      "cell_type": "code",
      "metadata": {
        "colab": {
          "base_uri": "https://localhost:8080/",
          "height": 317
        },
        "id": "xlO2RdhBbH1C",
        "outputId": "4505bb06-df92-4190-93eb-904daa2d26d2"
      },
      "source": [
        "# hashmap saving for each class the number of example in the test set mispredicted \n",
        "misprediction_for_classes = {\"0\":0, \"1\":0, \"2\":0, \"3\":0, \"4\":0, \"5\":0, \"6\":0 ,\"7\":0 ,\"8\":0,\"9\":0 }\n",
        "test_accuracy = tf.keras.metrics.Accuracy()\n",
        "\n",
        "\n",
        "for (x, y) in ds_test_preprocessed:\n",
        "  # training=False is needed only if there are layers with different\n",
        "  # behavior during training versus inference (e.g. Dropout).\n",
        "  logits = model_07(x, training=False)\n",
        "  prediction = tf.argmax(logits, axis=1, output_type=tf.int64)\n",
        "  iterator = 0 \n",
        "  #print(prediction)\n",
        "  #print(y)\n",
        "\n",
        "\n",
        "  for i in prediction: \n",
        "    #print(i)\n",
        "    #print(y[iterator])\n",
        "    if i != y[iterator]: \n",
        "      misprediction_for_classes[str(int(y[iterator]))] += 1 \n",
        "    iterator += 1   \n",
        "  test_accuracy(prediction, y)\n",
        "\n",
        "print(\"Test set accuracy: {:.3%}\".format(test_accuracy.result()))\n",
        "\n",
        "\n",
        "# plot the result as columns \n",
        "labels = []\n",
        "missclassified_examples = []\n",
        "\n",
        "for label in misprediction_for_classes: \n",
        "  labels.append(label)\n",
        "  missclassified_examples.append(misprediction_for_classes[label])\n",
        "\n",
        "plt.clf()\n",
        "Colors = ['green','blue','purple','brown','teal', 'indigo', 'orange', 'black', 'saddlebrown', 'cadetblue']\n",
        "plt.bar(labels, missclassified_examples, color=Colors)\n",
        "plt.title('Model 90% pruning classes accuracy', fontsize=14)\n",
        "plt.xlabel('Classes', fontsize=14)\n",
        "plt.ylabel('Missclassified number', fontsize=14)\n",
        "plt.grid(True)\n",
        "plt.show()"
      ],
      "execution_count": null,
      "outputs": [
        {
          "output_type": "stream",
          "name": "stdout",
          "text": [
            "Test set accuracy: 82.860%\n"
          ]
        },
        {
          "output_type": "display_data",
          "data": {
            "image/png": "[encoded data removed]",
            "text/plain": [
              "<Figure size 432x288 with 1 Axes>"
            ]
          },
          "metadata": {
            "needs_background": "light"
          }
        }
      ]
    },
    {
      "cell_type": "code",
      "metadata": {
        "colab": {
          "base_uri": "https://localhost:8080/"
        },
        "id": "1YvskPzRQ3jJ",
        "outputId": "9f45003e-1151-49e6-b22c-a564b95a3889"
      },
      "source": [
        "score = model_0.evaluate(ds_test_preprocessed, verbose=0)\n",
        "print('Model 0 pruned test loss:', score[0])\n",
        "print('Model 0 pruned test accuracy:', score[1])\n",
        "\n",
        "score = model_03.evaluate(ds_test_preprocessed, verbose=0)\n",
        "print('Model 30% pruned test loss:', score[0])\n",
        "print('Model 30% pruned test accuracy:', score[1])\n",
        "\n",
        "score = model_05.evaluate(ds_test_preprocessed, verbose=0)\n",
        "print('Model 50% pruned test loss:', score[0])\n",
        "print('Model 50% pruned test accuracy:', score[1])\n",
        "\n",
        "score = model_07.evaluate(ds_test_preprocessed, verbose=0)\n",
        "print('Model 70% pruned test loss:', score[0])\n",
        "print('Model 70% pruned test accuracy:', score[1])\n",
        "\n",
        "score = model_09.evaluate(ds_test_preprocessed, verbose=0)\n",
        "print('Model 90% pruned test loss:', score[0])\n",
        "print('Model 90% pruned test accuracy:', score[1])"
      ],
      "execution_count": null,
      "outputs": [
        {
          "output_type": "stream",
          "name": "stdout",
          "text": [
            "Model 0 pruned test loss: 0.47524628043174744\n",
            "Model 0 pruned test accuracy: 0.861299991607666\n",
            "Model 30% pruned test loss: 0.4221138060092926\n",
            "Model 30% pruned test accuracy: 0.8622999787330627\n",
            "Model 50% pruned test loss: 0.5385106205940247\n",
            "Model 50% pruned test accuracy: 0.8241999745368958\n",
            "Model 70% pruned test loss: 0.5043210983276367\n",
            "Model 70% pruned test accuracy: 0.8285999894142151\n",
            "Model 90% pruned test loss: 0.9166885018348694\n",
            "Model 90% pruned test accuracy: 0.6847000122070312\n"
          ]
        }
      ]
    },
    {
      "cell_type": "code",
      "metadata": {
        "id": "CnZeZDnVoxq_"
      },
      "source": [
        "score = pruned_model.evaluate(ds_val_preprocessed, verbose=0)\n",
        "print('Pruned validation loss:', score[0])\n",
        "print('Pruned validation accuracy:', score[1])\n",
        "\n",
        "# Export and import the pruned_model. Check that accuracy persists.\n",
        "saved_model_dir = '/tmp/saved_model'\n",
        "print('Saving pruned_model to: ', saved_model_dir)\n",
        "tf.keras.models.save_model(pruned_model, saved_model_dir, save_format='tf')\n",
        "print('Loading pruned_model from: ', saved_model_dir)\n",
        "loaded_model = tf.keras.models.load_model(saved_model_dir)\n",
        "\n",
        "score = loaded_model.evaluate(ds_test_preprocessed, verbose=0)\n",
        "print('Pruned test loss:', score[0])\n",
        "print('Pruned test accuracy:', score[1])\n"
      ],
      "execution_count": null,
      "outputs": []
    },
    {
      "cell_type": "code",
      "metadata": {
        "id": "7-bVHoT0sfCV"
      },
      "source": [
        "%tensorboard --logdir={logdir}"
      ],
      "execution_count": null,
      "outputs": []
    },
    {
      "cell_type": "code",
      "metadata": {
        "id": "Qyn50FgMDKe0"
      },
      "source": [
        "model = get_sequential_model([32, 32, 3])\n",
        "\n",
        "epochs = 100\n",
        "\n",
        "model.compile(\n",
        "    loss=tf.keras.losses.SparseCategoricalCrossentropy(from_logits=True),\n",
        "    optimizer='adam',\n",
        "    metrics=['accuracy'])\n",
        "\n",
        "model.summary()"
      ],
      "execution_count": null,
      "outputs": []
    },
    {
      "cell_type": "code",
      "metadata": {
        "id": "pyxb8Rs-CxbE"
      },
      "source": [
        "model.fit(\n",
        "    ds_train_preprocessed,\n",
        "    batch_size=batch_size,\n",
        "    epochs=epochs,\n",
        "    verbose=1,\n",
        "    callbacks=callbacks,\n",
        "    validation_data=ds_val_preprocessed)\n",
        "\n",
        "score = model.evaluate(ds_val_preprocessed, verbose=0)\n",
        "print('NOT Pruned validation loss:', score[0])\n",
        "print('NOT Pruned validation accuracy:', score[1])\n",
        "\n",
        "# Export and import the pruned_model. Check that accuracy persists.\n",
        "saved_model_dir = '/tmp/saved_model'\n",
        "print('Saving pruned_model to: ', saved_model_dir)\n",
        "tf.keras.models.save_model(model, saved_model_dir, save_format='tf')\n",
        "print('Loading  from: ', saved_model_dir)\n",
        "loaded_model = tf.keras.models.load_model(saved_model_dir)\n",
        "\n",
        "score = loaded_model.evaluate(ds_test_preprocessed, verbose=0)\n",
        "print('Pruned test loss:', score[0])\n",
        "print('Pruned test accuracy:', score[1])"
      ],
      "execution_count": null,
      "outputs": []
    }
  ]
}